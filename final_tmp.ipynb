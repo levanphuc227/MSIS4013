{
 "cells": [
  {
   "cell_type": "markdown",
   "id": "583fd861",
   "metadata": {},
   "source": [
    "# import library"
   ]
  },
  {
   "cell_type": "code",
   "execution_count": 1,
   "id": "aa9450b2",
   "metadata": {},
   "outputs": [],
   "source": [
    "import os\n",
    "os.sys.path\n",
    "import cv2\n",
    "import matplotlib.pyplot as plt\n",
    "from skimage.util import random_noise\n",
    "import requests\n",
    "import numpy as np\n",
    "import random\n",
    "import shutil\n",
    "import glob\n",
    "import time\n",
    "import io\n",
    "from tkinter import ttk\n",
    "import base64\n",
    "from imageio import imread,imwrite\n",
    "import time\n",
    "from tkinter import *\n",
    "from PIL import ImageTk,Image\n",
    "from tkinter import filedialog"
   ]
  },
  {
   "cell_type": "code",
   "execution_count": 2,
   "id": "5c357152",
   "metadata": {},
   "outputs": [
    {
     "data": {
      "text/plain": [
       "['.git',\n",
       " '.ipynb_checkpoints',\n",
       " 'database_augmented',\n",
       " 'dataset',\n",
       " 'final.ipynb',\n",
       " 'final.ipynb.tmp',\n",
       " 'final_tmp.ipynb',\n",
       " 'hướng dẫn cài đặt môi trường.docx',\n",
       " 'README.md',\n",
       " 'reconstructed.jpg',\n",
       " 'requiment-install.txt',\n",
       " '~$ớng dẫn cài đặt môi trường.docx']"
      ]
     },
     "execution_count": 2,
     "metadata": {},
     "output_type": "execute_result"
    }
   ],
   "source": [
    "os.listdir()"
   ]
  },
  {
   "cell_type": "code",
   "execution_count": 3,
   "id": "3377488a",
   "metadata": {},
   "outputs": [],
   "source": [
    "os.chdir('dataset')"
   ]
  },
  {
   "cell_type": "code",
   "execution_count": 4,
   "id": "d71d1985",
   "metadata": {},
   "outputs": [
    {
     "data": {
      "text/plain": [
       "['without_mask', 'with_mask']"
      ]
     },
     "execution_count": 4,
     "metadata": {},
     "output_type": "execute_result"
    }
   ],
   "source": [
    "os.listdir()"
   ]
  },
  {
   "cell_type": "markdown",
   "id": "f925e731",
   "metadata": {},
   "source": [
    "# define function"
   ]
  },
  {
   "cell_type": "code",
   "execution_count": 5,
   "id": "5383431f",
   "metadata": {},
   "outputs": [],
   "source": [
    "def Rotate60(img):\n",
    "  rows,cols,channels= img.shape \n",
    "  M = cv2.getRotationMatrix2D((cols/2,rows/2),60,1) \n",
    "  rotate_60 = cv2.warpAffine(img,M,(cols,rows)) \n",
    "  return rotate_60"
   ]
  },
  {
   "cell_type": "code",
   "execution_count": 6,
   "id": "1ffe4641",
   "metadata": {},
   "outputs": [],
   "source": [
    "def Rotate30(img):\n",
    "    rows,cols,channels= img.shape \n",
    "    M = cv2.getRotationMatrix2D((cols/2,rows/2),60,1) \n",
    "    rotate_30 = cv2.warpAffine(img,M,(cols,rows)) \n",
    "    return rotate_30"
   ]
  },
  {
   "cell_type": "code",
   "execution_count": 7,
   "id": "04ced6d3",
   "metadata": {},
   "outputs": [],
   "source": [
    "def flip(img):\n",
    "  return cv2.flip(img, 1)"
   ]
  },
  {
   "cell_type": "code",
   "execution_count": 8,
   "id": "ff9eec96",
   "metadata": {},
   "outputs": [],
   "source": [
    "def GaussianBlur(img):\n",
    "  return cv2.GaussianBlur(img, (9,9), 5)"
   ]
  },
  {
   "cell_type": "code",
   "execution_count": 9,
   "id": "c54d4b36",
   "metadata": {},
   "outputs": [],
   "source": [
    "def brightness(img):\n",
    "    value = random.uniform( 0.5, 3)\n",
    "    hsv = cv2.cvtColor(img, cv2.COLOR_BGR2HSV)\n",
    "    hsv = np.array(hsv, dtype = np.float64)\n",
    "    hsv[:,:,1] = hsv[:,:,1]*value\n",
    "    hsv[:,:,1][hsv[:,:,1]>255]  = 255\n",
    "    hsv[:,:,2] = hsv[:,:,2]*value \n",
    "    hsv[:,:,2][hsv[:,:,2]>255]  = 255\n",
    "    hsv = np.array(hsv, dtype = np.uint8)\n",
    "    img = cv2.cvtColor(hsv, cv2.COLOR_HSV2BGR)\n",
    "    return img"
   ]
  },
  {
   "cell_type": "code",
   "execution_count": 10,
   "id": "021bc8bf",
   "metadata": {},
   "outputs": [],
   "source": [
    "def channel_shift(img):\n",
    "    value = int(random.uniform(-60, 60))\n",
    "    img = img + value\n",
    "    img[:,:,:][img[:,:,:]>255]  = 255\n",
    "    img[:,:,:][img[:,:,:]<0]  = 0\n",
    "    img = img.astype(np.uint8)\n",
    "    return img"
   ]
  },
  {
   "cell_type": "code",
   "execution_count": 11,
   "id": "cbf97f05",
   "metadata": {},
   "outputs": [],
   "source": [
    "def noiseImg(img):\n",
    "  noise_img = random_noise(image, mode='s&p',amount=0.5)\n",
    "\n",
    "\n",
    "  # The above function returns a floating-point image\n",
    "  # on the range [0, 1], thus we changed it to 'uint8'\n",
    "  # and from [0,255]\n",
    "  return np.array(255*noise_img, dtype = 'uint8')"
   ]
  },
  {
   "cell_type": "code",
   "execution_count": 12,
   "id": "dce730e2",
   "metadata": {},
   "outputs": [],
   "source": [
    "def load_img(url):\n",
    "    return cv2.imread(url)\n"
   ]
  },
  {
   "cell_type": "code",
   "execution_count": null,
   "id": "08d5ecc2",
   "metadata": {},
   "outputs": [],
   "source": []
  },
  {
   "cell_type": "code",
   "execution_count": 13,
   "id": "42cb01e6",
   "metadata": {},
   "outputs": [],
   "source": [
    "def encode_img(image):\n",
    "    _, byte = cv2.imencode('.png', image)\n",
    "    encode_image = base64.b64encode(byte)\n",
    "    decoded_image = base64.b64decode(encode_image)\n",
    "    return decoded_image\n",
    "    \n"
   ]
  },
  {
   "cell_type": "code",
   "execution_count": 14,
   "id": "6ddbe08e",
   "metadata": {},
   "outputs": [],
   "source": [
    "def decode_img(decoded_image):\n",
    "    return imread(io.BytesIO(decoded_image))"
   ]
  },
  {
   "cell_type": "code",
   "execution_count": null,
   "id": "4f53a313",
   "metadata": {},
   "outputs": [],
   "source": []
  },
  {
   "cell_type": "code",
   "execution_count": 15,
   "id": "b1d57119",
   "metadata": {},
   "outputs": [],
   "source": [
    "def show_img(img):\n",
    "  plt.imshow(cv2.cvtColor(img, cv2.COLOR_BGR2RGB))\n",
    "  plt.show()"
   ]
  },
  {
   "cell_type": "code",
   "execution_count": 16,
   "id": "f7286a46",
   "metadata": {},
   "outputs": [],
   "source": [
    "def save_img(filename,img):\n",
    "  save_img(filename, img)"
   ]
  },
  {
   "cell_type": "code",
   "execution_count": 17,
   "id": "9a47b956",
   "metadata": {},
   "outputs": [],
   "source": [
    "def convertToBinaryData(filename):\n",
    "    # Convert digital data to binary format\n",
    "    with open(filename, 'rb') as file:\n",
    "        binaryData = file.read()\n",
    "    return binaryData"
   ]
  },
  {
   "cell_type": "markdown",
   "id": "a7833d36",
   "metadata": {},
   "source": [
    "# create variable constant"
   ]
  },
  {
   "cell_type": "code",
   "execution_count": 18,
   "id": "afbe1ae3",
   "metadata": {},
   "outputs": [],
   "source": [
    "methods=['60','30','Flip','GaussianBlur','Brightness','channel_shift','noise_img']"
   ]
  },
  {
   "cell_type": "code",
   "execution_count": 19,
   "id": "71158bf0",
   "metadata": {},
   "outputs": [],
   "source": [
    "function_methods=[Rotate60,Rotate30,flip,GaussianBlur,brightness,channel_shift,noiseImg]"
   ]
  },
  {
   "cell_type": "code",
   "execution_count": 20,
   "id": "74724d7e",
   "metadata": {},
   "outputs": [],
   "source": [
    "DIRECTORY=os.getcwd()\n",
    "CATEGORIES = [\"with_mask\", \"without_mask\"]"
   ]
  },
  {
   "cell_type": "code",
   "execution_count": 21,
   "id": "5c9d4b3c",
   "metadata": {},
   "outputs": [
    {
     "name": "stdout",
     "output_type": "stream",
     "text": [
      "C:\\Users\\admin\\Documents\\MSIS4013\\dataset\n"
     ]
    }
   ],
   "source": [
    "print(DIRECTORY)"
   ]
  },
  {
   "cell_type": "code",
   "execution_count": 22,
   "id": "e891ec08",
   "metadata": {},
   "outputs": [
    {
     "name": "stdout",
     "output_type": "stream",
     "text": [
      "['C:\\\\Users\\\\admin\\\\Documents\\\\MSIS4013\\\\dataset\\\\without_mask', 'C:\\\\Users\\\\admin\\\\Documents\\\\MSIS4013\\\\dataset\\\\with_mask']\n"
     ]
    }
   ],
   "source": [
    "import glob\n",
    "print(glob.glob(DIRECTORY+'/*'))"
   ]
  },
  {
   "cell_type": "code",
   "execution_count": 23,
   "id": "c521ac87",
   "metadata": {},
   "outputs": [],
   "source": [
    "time_summary =[]\n",
    "time_execution = []\n"
   ]
  },
  {
   "cell_type": "markdown",
   "id": "f2c7ae90",
   "metadata": {},
   "source": [
    "# 1. Mysql xampp"
   ]
  },
  {
   "cell_type": "code",
   "execution_count": 24,
   "id": "ad952346",
   "metadata": {},
   "outputs": [],
   "source": [
    "import mysql.connector"
   ]
  },
  {
   "cell_type": "markdown",
   "id": "3f778b68",
   "metadata": {},
   "source": [
    "# connect mysql"
   ]
  },
  {
   "cell_type": "code",
   "execution_count": 25,
   "id": "2d43c3bb",
   "metadata": {},
   "outputs": [],
   "source": [
    "connection = mysql.connector.connect(host='localhost',\n",
    "                                     database='augmented',\n",
    "                                     user='root',\n",
    "                                     password='')\n",
    "\n",
    "cursor = connection.cursor()\n",
    "        "
   ]
  },
  {
   "cell_type": "markdown",
   "id": "dbe510c5",
   "metadata": {},
   "source": [
    "# delete all data in database"
   ]
  },
  {
   "cell_type": "code",
   "execution_count": 26,
   "id": "6339eaf5",
   "metadata": {},
   "outputs": [],
   "source": [
    "cursor.execute('delete from image_processing')\n",
    "connection.commit()\n",
    "cursor.execute('delete from method_processing')\n",
    "cursor.execute('delete from original_image')\n",
    "connection.commit()"
   ]
  },
  {
   "cell_type": "markdown",
   "id": "2c2d6ade",
   "metadata": {},
   "source": [
    "# import name method"
   ]
  },
  {
   "cell_type": "code",
   "execution_count": 27,
   "id": "8098c43e",
   "metadata": {},
   "outputs": [
    {
     "name": "stdout",
     "output_type": "stream",
     "text": [
      "INSERT INTO method_processing (name_method) VALUES ('60')\n",
      "INSERT INTO method_processing (name_method) VALUES ('30')\n",
      "INSERT INTO method_processing (name_method) VALUES ('Flip')\n",
      "INSERT INTO method_processing (name_method) VALUES ('GaussianBlur')\n",
      "INSERT INTO method_processing (name_method) VALUES ('Brightness')\n",
      "INSERT INTO method_processing (name_method) VALUES ('channel_shift')\n",
      "INSERT INTO method_processing (name_method) VALUES ('noise_img')\n"
     ]
    }
   ],
   "source": [
    "start =time.time()\n",
    "try:\n",
    "    for method in methods:\n",
    "        value=(method)\n",
    "        my_string = \"INSERT INTO method_processing (name_method) VALUES ('{}')\".format(method)\n",
    "        print(my_string)\n",
    "        cursor.execute(my_string)\n",
    "except mysql.connector.Error as error:\n",
    "    print(\"Failed inserting BLOB data into MySQL table {}\".format(error))\n",
    "end =time.time()\n",
    "time_execution.append(end-start)"
   ]
  },
  {
   "cell_type": "code",
   "execution_count": 28,
   "id": "58356841",
   "metadata": {},
   "outputs": [],
   "source": [
    "#print(end-start)"
   ]
  },
  {
   "cell_type": "markdown",
   "id": "f07fb259",
   "metadata": {},
   "source": [
    "# print name method in database"
   ]
  },
  {
   "cell_type": "code",
   "execution_count": 29,
   "id": "7f94d41d",
   "metadata": {},
   "outputs": [
    {
     "name": "stdout",
     "output_type": "stream",
     "text": [
      "(64, '60')\n",
      "(65, '30')\n",
      "(66, 'Flip')\n",
      "(67, 'GaussianBlur')\n",
      "(68, 'Brightness')\n",
      "(69, 'channel_shift')\n",
      "(70, 'noise_img')\n"
     ]
    }
   ],
   "source": [
    "start=time.time()\n",
    "cursor.execute(\"SELECT * FROM method_processing\")\n",
    "\n",
    "myresult = cursor.fetchall()\n",
    "\n",
    "for x in myresult:\n",
    "    print(x)\n",
    "end=time.time()\n",
    "time_execution.append(end-start)"
   ]
  },
  {
   "cell_type": "markdown",
   "id": "cf09ba0e",
   "metadata": {
    "collapsed": true
   },
   "source": [
    "# import image from local to datbase"
   ]
  },
  {
   "cell_type": "code",
   "execution_count": 30,
   "id": "28ab74e7",
   "metadata": {},
   "outputs": [],
   "source": [
    "start=time.time()\n",
    "try:\n",
    "    for category in CATEGORIES:\n",
    "        path = os.path.join(DIRECTORY, category,'origin')\n",
    "        for img in os.listdir(path)[0:5]:\n",
    "            img_path = os.path.join(path, img)\n",
    "            image=load_img(img_path)\n",
    "            encode_image=encode_img(image)\n",
    "            sql = \"INSERT INTO original_image (image,label_img) VALUES (%s,%s)\"\n",
    "            cursor.execute(sql, (encode_image,category,))\n",
    "except mysql.connector.Error as error:\n",
    "    print(\"Failed inserting BLOB data into MySQL table {}\".format(error))\n",
    "end=time.time()\n",
    "time_execution.append(end-start)"
   ]
  },
  {
   "cell_type": "markdown",
   "id": "4189613c",
   "metadata": {
    "collapsed": true
   },
   "source": [
    "# read image in database"
   ]
  },
  {
   "cell_type": "code",
   "execution_count": 31,
   "id": "ba6f007d",
   "metadata": {},
   "outputs": [
    {
     "name": "stderr",
     "output_type": "stream",
     "text": [
      "IOPub data rate exceeded.\n",
      "The notebook server will temporarily stop sending output\n",
      "to the client in order to avoid crashing it.\n",
      "To change this limit, set the config variable\n",
      "`--NotebookApp.iopub_data_rate_limit`.\n",
      "\n",
      "Current values:\n",
      "NotebookApp.iopub_data_rate_limit=1000000.0 (bytes/sec)\n",
      "NotebookApp.rate_limit_window=3.0 (secs)\n",
      "\n"
     ]
    }
   ],
   "source": [
    "start=time.time()\n",
    "cursor.execute(\"SELECT * FROM original_image\")\n",
    "\n",
    "myresult = cursor.fetchall()\n",
    "\n",
    "for x in myresult:\n",
    "    print(x)\n",
    "end=time.time()\n",
    "time_execution.append(end-start)"
   ]
  },
  {
   "cell_type": "code",
   "execution_count": 32,
   "id": "3d6d5a8d",
   "metadata": {},
   "outputs": [],
   "source": [
    "#print(end-start)"
   ]
  },
  {
   "cell_type": "code",
   "execution_count": 33,
   "id": "0344b276",
   "metadata": {},
   "outputs": [],
   "source": [
    "time_summary.append(time_execution)\n",
    "time_execution=[]"
   ]
  },
  {
   "cell_type": "markdown",
   "id": "c31b0b4d",
   "metadata": {
    "collapsed": true
   },
   "source": [
    "# show image"
   ]
  },
  {
   "cell_type": "code",
   "execution_count": 34,
   "id": "987b4cf1",
   "metadata": {},
   "outputs": [
    {
     "data": {
      "image/png": "[encoded data removed]",
      "text/plain": [
       "<Figure size 432x288 with 1 Axes>"
      ]
     },
     "metadata": {
      "needs_background": "light"
     },
     "output_type": "display_data"
    }
   ],
   "source": [
    "encode_image = myresult[0][1]\n",
    "\n",
    "image = decode_img(encode_image)\n",
    "plt.figure()\n",
    "plt.imshow(image, cmap=\"gray\")\n",
    "plt.show()"
   ]
  },
  {
   "cell_type": "markdown",
   "id": "db9974a4",
   "metadata": {
    "collapsed": true
   },
   "source": [
    "# create augmented data and store it in the database"
   ]
  },
  {
   "cell_type": "code",
   "execution_count": 35,
   "id": "5b1cdf9b",
   "metadata": {},
   "outputs": [],
   "source": [
    "cursor.execute(\"SELECT * FROM method_processing where name_method = '60'\")\n",
    "\n",
    "list_method_processing = cursor.fetchall()"
   ]
  },
  {
   "cell_type": "code",
   "execution_count": 36,
   "id": "abf0e5ff",
   "metadata": {},
   "outputs": [
    {
     "name": "stdout",
     "output_type": "stream",
     "text": [
      "64\n"
     ]
    }
   ],
   "source": [
    "print(list_method_processing[0][0])"
   ]
  },
  {
   "cell_type": "code",
   "execution_count": 37,
   "id": "6014a233",
   "metadata": {},
   "outputs": [
    {
     "name": "stdout",
     "output_type": "stream",
     "text": [
      "81 64\n",
      "82 64\n",
      "83 64\n",
      "84 64\n",
      "85 64\n",
      "86 64\n",
      "87 64\n",
      "88 64\n",
      "89 64\n",
      "90 64\n"
     ]
    }
   ],
   "source": [
    "cursor.execute(\"SELECT * FROM original_image\")\n",
    "\n",
    "myresult = cursor.fetchall()\n",
    "for x in myresult:\n",
    "    encode_image = x[1]\n",
    "    image = decode_img(encode_image)\n",
    "    image_processing =function_methods[0](image)\n",
    "    encode_image_processing=encode_img(image_processing)\n",
    "    id_original_image=x[0]\n",
    "    id_method=list_method_processing[0][0]\n",
    "    sql = \"INSERT INTO image_processing (id_original_image,id_method,image) VALUES (%s,%s,%s)\"\n",
    "\n",
    "    cursor.execute(sql, (id_original_image,id_method,encode_image_processing ,))\n",
    "    print(id_original_image,id_method)"
   ]
  },
  {
   "cell_type": "code",
   "execution_count": 38,
   "id": "e6c67bb8",
   "metadata": {},
   "outputs": [],
   "source": [
    "cursor.execute(\"SELECT * FROM image_processing\")\n",
    "list_image_processing = cursor.fetchall()"
   ]
  },
  {
   "cell_type": "code",
   "execution_count": 39,
   "id": "7b11a6ad",
   "metadata": {},
   "outputs": [
    {
     "data": {
      "image/png": "[encoded data removed]",
      "text/plain": [
       "<Figure size 432x288 with 1 Axes>"
      ]
     },
     "metadata": {
      "needs_background": "light"
     },
     "output_type": "display_data"
    }
   ],
   "source": [
    "encode_image=list_image_processing[0][2]\n",
    "image=decode_img(encode_image)\n",
    "show_img(image)"
   ]
  },
  {
   "cell_type": "code",
   "execution_count": 40,
   "id": "4b6c54d5",
   "metadata": {},
   "outputs": [],
   "source": [
    "connection.commit()"
   ]
  },
  {
   "cell_type": "code",
   "execution_count": 41,
   "id": "57cc3134",
   "metadata": {},
   "outputs": [],
   "source": [
    "connection.close()"
   ]
  },
  {
   "cell_type": "markdown",
   "id": "fd809e0e",
   "metadata": {},
   "source": [
    "# 2. Oracle SQL"
   ]
  },
  {
   "cell_type": "code",
   "execution_count": 42,
   "id": "0de9002a",
   "metadata": {},
   "outputs": [],
   "source": [
    "import cx_Oracle\n",
    "\n"
   ]
  },
  {
   "cell_type": "markdown",
   "id": "62bc8f34",
   "metadata": {},
   "source": [
    "# connect Oracle SQL"
   ]
  },
  {
   "cell_type": "code",
   "execution_count": 43,
   "id": "af2ff9e0",
   "metadata": {},
   "outputs": [],
   "source": [
    "#dsn_tns = cx_Oracle.makedsn('Host Name', 'Port Number', service_name='Service Name') # if needed, place an 'r' before any parameter in order to address special characters such as '\\'.\n",
    "dsn_tns = cx_Oracle.makedsn('localhost', '1521', service_name='orcl') # if needed, place an 'r' before any parameter in order to address special characters such as '\\'.\n",
    "conn = cx_Oracle.connect(user=r'C##augmented', password='augmented', dsn=dsn_tns) # if needed, place an 'r' before any parameter in order to address special characters such as '\\'. For example, if your user name contains '\\', you'll need to place 'r' before the user name: user=r'User Name'\n",
    "\n",
    "c = conn.cursor()"
   ]
  },
  {
   "cell_type": "markdown",
   "id": "f044d8b5",
   "metadata": {},
   "source": [
    "# delete all data in database"
   ]
  },
  {
   "cell_type": "code",
   "execution_count": 44,
   "id": "ae037980",
   "metadata": {},
   "outputs": [],
   "source": [
    "c.execute('delete from  image_processing') \n",
    "conn.commit()\n",
    "c.execute('delete from  method_processing') \n",
    "c.execute('delete from  original_image') \n",
    "conn.commit()"
   ]
  },
  {
   "cell_type": "markdown",
   "id": "a8869f1f",
   "metadata": {},
   "source": [
    "# import name method"
   ]
  },
  {
   "cell_type": "code",
   "execution_count": 45,
   "id": "09ccd12f",
   "metadata": {},
   "outputs": [
    {
     "name": "stdout",
     "output_type": "stream",
     "text": [
      "60\n",
      "30\n",
      "Flip\n",
      "GaussianBlur\n",
      "Brightness\n",
      "channel_shift\n",
      "noise_img\n"
     ]
    }
   ],
   "source": [
    "start=time.time()\n",
    "for method in methods:\n",
    "    print(method)\n",
    "    value=(method,)\n",
    "    c.execute( \"INSERT INTO method_processing (name_method) VALUES (:0)\",(method,))\n",
    "end=time.time()\n",
    "time_execution.append(end-start)"
   ]
  },
  {
   "cell_type": "markdown",
   "id": "cb6682ff",
   "metadata": {
    "collapsed": true
   },
   "source": [
    "# print name method in database"
   ]
  },
  {
   "cell_type": "code",
   "execution_count": 46,
   "id": "a5777d62",
   "metadata": {},
   "outputs": [
    {
     "name": "stdout",
     "output_type": "stream",
     "text": [
      "76 - 60\n",
      "77 - 30\n",
      "78 - Flip\n",
      "79 - GaussianBlur\n",
      "80 - Brightness\n",
      "81 - channel_shift\n",
      "82 - noise_img\n"
     ]
    }
   ],
   "source": [
    "start=time.time()\n",
    "\n",
    "list_method_processing=c.execute('select * from  method_processing ') \n",
    "for x in list_method_processing:\n",
    "    print (x[0], '-', x[1])\n",
    "end=time.time()\n",
    "#print(end-start)\n",
    "time_execution.append(end-start)"
   ]
  },
  {
   "cell_type": "code",
   "execution_count": 47,
   "id": "535219d3",
   "metadata": {},
   "outputs": [],
   "source": [
    "conn.commit()"
   ]
  },
  {
   "cell_type": "markdown",
   "id": "660d807d",
   "metadata": {},
   "source": [
    "# import image from local to datbase"
   ]
  },
  {
   "cell_type": "code",
   "execution_count": 48,
   "id": "2c775c3a",
   "metadata": {},
   "outputs": [],
   "source": [
    "start=time.time()\n",
    "for category in CATEGORIES:\n",
    "    path = os.path.join(DIRECTORY, category,'origin')\n",
    "    for img in os.listdir(path)[0:5]:\n",
    "        img_path = os.path.join(path, img)          \n",
    "        image=load_img(img_path)\n",
    "        encode_image=encode_img(image)\n",
    "        c.execute( \"INSERT INTO original_image (image,label_img) VALUES (:0,:1)\",(encode_image,category))\n",
    "        \n",
    "end=time.time()\n",
    "#print(end-start)\n",
    "time_execution.append(end-start)"
   ]
  },
  {
   "cell_type": "markdown",
   "id": "21ec223a",
   "metadata": {},
   "source": [
    "# read image in database"
   ]
  },
  {
   "cell_type": "code",
   "execution_count": 49,
   "id": "0f4aeb27",
   "metadata": {},
   "outputs": [
    {
     "name": "stdout",
     "output_type": "stream",
     "text": [
      "(71, <cx_Oracle.LOB object at 0x0000011C4043A8D0>, 'with_mask')\n",
      "(72, <cx_Oracle.LOB object at 0x0000011C4043A240>, 'with_mask')\n",
      "(73, <cx_Oracle.LOB object at 0x0000011C4043A930>, 'with_mask')\n",
      "(74, <cx_Oracle.LOB object at 0x0000011C4043A480>, 'with_mask')\n",
      "(75, <cx_Oracle.LOB object at 0x0000011C4043A5A0>, 'with_mask')\n",
      "(76, <cx_Oracle.LOB object at 0x0000011C4043A750>, 'without_mask')\n",
      "(77, <cx_Oracle.LOB object at 0x0000011C4043A540>, 'without_mask')\n",
      "(78, <cx_Oracle.LOB object at 0x0000011C4043A1E0>, 'without_mask')\n",
      "(79, <cx_Oracle.LOB object at 0x0000011C4043AD80>, 'without_mask')\n",
      "(80, <cx_Oracle.LOB object at 0x0000011C4043ADB0>, 'without_mask')\n"
     ]
    }
   ],
   "source": [
    "start=time.time()\n",
    "c.execute('select * from  original_image ') \n",
    "list_original_images=c.fetchall()\n",
    "for row in list_original_images:\n",
    "    print (row)\n",
    "end=time.time()\n",
    "#print(end-start)\n",
    "time_execution.append(end-start)"
   ]
  },
  {
   "cell_type": "code",
   "execution_count": 50,
   "id": "58a2f54e",
   "metadata": {},
   "outputs": [],
   "source": [
    "time_summary.append(time_execution)\n",
    "time_execution=[]"
   ]
  },
  {
   "cell_type": "markdown",
   "id": "436a9bbd",
   "metadata": {},
   "source": [
    "# show image"
   ]
  },
  {
   "cell_type": "code",
   "execution_count": 51,
   "id": "ed234529",
   "metadata": {},
   "outputs": [],
   "source": [
    "encode_image= list_original_images[0][1].read()"
   ]
  },
  {
   "cell_type": "code",
   "execution_count": 52,
   "id": "a984ede8",
   "metadata": {},
   "outputs": [],
   "source": [
    "#print(img)"
   ]
  },
  {
   "cell_type": "code",
   "execution_count": 53,
   "id": "1fc52777",
   "metadata": {},
   "outputs": [
    {
     "data": {
      "image/png": "[encoded data removed]",
      "text/plain": [
       "<Figure size 432x288 with 1 Axes>"
      ]
     },
     "metadata": {
      "needs_background": "light"
     },
     "output_type": "display_data"
    }
   ],
   "source": [
    "image = decode_img(encode_image)\n",
    "plt.figure()\n",
    "plt.imshow(image, cmap=\"gray\")\n",
    "plt.show()"
   ]
  },
  {
   "cell_type": "markdown",
   "id": "d002d8e7",
   "metadata": {},
   "source": [
    "# create augmented data and store it in the database"
   ]
  },
  {
   "cell_type": "code",
   "execution_count": 54,
   "id": "a62c9f0c",
   "metadata": {},
   "outputs": [
    {
     "name": "stdout",
     "output_type": "stream",
     "text": [
      "76 - 60\n",
      "77 - 30\n",
      "78 - Flip\n",
      "79 - GaussianBlur\n",
      "80 - Brightness\n",
      "81 - channel_shift\n",
      "82 - noise_img\n"
     ]
    }
   ],
   "source": [
    "start=time.time()\n",
    "list_method_processing=[]\n",
    "\n",
    "c.execute('select * from  method_processing ') \n",
    "list_method_processing=c.fetchall()\n",
    "for x in list_method_processing:\n",
    "    print (x[0], '-', x[1])\n",
    "end=time.time()\n",
    "#print(end-start)\n",
    "time_execution.append(end-start)"
   ]
  },
  {
   "cell_type": "code",
   "execution_count": 55,
   "id": "7cb27a2a",
   "metadata": {},
   "outputs": [
    {
     "name": "stdout",
     "output_type": "stream",
     "text": [
      "76\n"
     ]
    }
   ],
   "source": [
    "print(list_method_processing[0][0])"
   ]
  },
  {
   "cell_type": "code",
   "execution_count": 56,
   "id": "4fa1d8f1",
   "metadata": {},
   "outputs": [],
   "source": [
    "c.execute(\"SELECT * FROM original_image\")\n",
    "\n",
    "list_original_images=c.fetchall()\n",
    "\n",
    "#print(list_original_images)\n",
    "\n",
    "\n",
    "for x in list_original_images:\n",
    "    encode_image = x[1].read()\n",
    "    image = decode_img(encode_image)\n",
    "    image_processing =function_methods[0](image)\n",
    "    encode_image_processing=encode_img(image_processing)\n",
    "    id_original_image=x[0]\n",
    "    id_method=list_method_processing[0][0]\n",
    "    c.execute(\"INSERT INTO image_processing (id_original_image,id_method,image) VALUES (:0,:1,:2)\",(id_original_image,id_method,encode_image_processing))\n",
    "    #print(id_original_image,id_method,)\n",
    "    "
   ]
  },
  {
   "cell_type": "code",
   "execution_count": 57,
   "id": "a6927c41",
   "metadata": {},
   "outputs": [],
   "source": [
    "c.execute('select * from  image_processing ') \n",
    "list_image_processing=c.fetchall()"
   ]
  },
  {
   "cell_type": "code",
   "execution_count": 58,
   "id": "dcdecded",
   "metadata": {},
   "outputs": [
    {
     "data": {
      "image/png": "[encoded data removed]",
      "text/plain": [
       "<Figure size 432x288 with 1 Axes>"
      ]
     },
     "metadata": {
      "needs_background": "light"
     },
     "output_type": "display_data"
    }
   ],
   "source": [
    "encode_image=list_image_processing[0][2].read()\n",
    "image=decode_img(encode_image)\n",
    "show_img(image)"
   ]
  },
  {
   "cell_type": "code",
   "execution_count": 59,
   "id": "0477f7fa",
   "metadata": {},
   "outputs": [],
   "source": [
    "conn.commit()"
   ]
  },
  {
   "cell_type": "code",
   "execution_count": 60,
   "id": "8093a1d9",
   "metadata": {},
   "outputs": [],
   "source": [
    "conn.close()"
   ]
  },
  {
   "cell_type": "markdown",
   "id": "7705d681",
   "metadata": {},
   "source": [
    "# 3. Mongodb"
   ]
  },
  {
   "cell_type": "code",
   "execution_count": 5,
   "id": "73e55d0e",
   "metadata": {},
   "outputs": [],
   "source": [
    "from pymongo import MongoClient"
   ]
  },
  {
   "cell_type": "markdown",
   "id": "4a0bcab6",
   "metadata": {},
   "source": [
    "# connect mongodb "
   ]
  },
  {
   "cell_type": "code",
   "execution_count": 41,
   "id": "40627a63",
   "metadata": {},
   "outputs": [],
   "source": [
    "connection = MongoClient(\"localhost\", 27017)\n",
    "\n",
    "database = connection['final4013']"
   ]
  },
  {
   "cell_type": "code",
   "execution_count": 36,
   "id": "8fd4e2bb",
   "metadata": {},
   "outputs": [],
   "source": []
  },
  {
   "cell_type": "code",
   "execution_count": 28,
   "id": "bb6d085e",
   "metadata": {},
   "outputs": [],
   "source": []
  },
  {
   "cell_type": "code",
   "execution_count": 51,
   "id": "97f7a329",
   "metadata": {},
   "outputs": [
    {
     "name": "stdout",
     "output_type": "stream",
     "text": [
      "[]\n"
     ]
    }
   ],
   "source": [
    "print(database.list_collection_namzes())\n"
   ]
  },
  {
   "cell_type": "markdown",
   "id": "64ffe024",
   "metadata": {},
   "source": [
    "# delete all data in database"
   ]
  },
  {
   "cell_type": "code",
   "execution_count": 46,
   "id": "2c391d85",
   "metadata": {},
   "outputs": [],
   "source": [
    "method_col = database[\"method_processing\"]\n",
    "original_image_col = database[\"original_image\"]\n",
    "image_processing_col = database[\"image_processing\"]\n",
    "z"
   ]
  },
  {
   "cell_type": "code",
   "execution_count": 50,
   "id": "34f1289f",
   "metadata": {},
   "outputs": [
    {
     "data": {
      "text/plain": [
       "<pymongo.results.DeleteResult at 0x2974cc39220>"
      ]
     },
     "execution_count": 50,
     "metadata": {},
     "output_type": "execute_result"
    }
   ],
   "source": [
    "method_col.delete_many({})\n",
    "original_image_col.delete_many({})\n",
    "image_processing_col.delete_many({})"
   ]
  },
  {
   "cell_type": "markdown",
   "id": "a3fe270c",
   "metadata": {},
   "source": [
    "# import name method"
   ]
  },
  {
   "cell_type": "code",
   "execution_count": 66,
   "id": "4b2f4925",
   "metadata": {},
   "outputs": [],
   "source": [
    "start=time.time()\n",
    "for method in methods:\n",
    "    #print(i)\n",
    "    name_method = {\n",
    "        \"name_method\":method\n",
    "        }\n",
    "    method_col.insert_one(name_method)\n",
    "\n",
    "end=time.time()\n",
    "time_execution.append(end-start)\n",
    "#print(end-start)\n"
   ]
  },
  {
   "cell_type": "markdown",
   "id": "b4ecad62",
   "metadata": {},
   "source": [
    "# print name method in database"
   ]
  },
  {
   "cell_type": "code",
   "execution_count": 67,
   "id": "ac52f134",
   "metadata": {},
   "outputs": [
    {
     "name": "stdout",
     "output_type": "stream",
     "text": [
      "{'_id': ObjectId('62bc7bb13d4b6f346b05dd2d'), 'name_method': '60'}\n",
      "{'_id': ObjectId('62bc7bb13d4b6f346b05dd2e'), 'name_method': '30'}\n",
      "{'_id': ObjectId('62bc7bb13d4b6f346b05dd2f'), 'name_method': 'Flip'}\n",
      "{'_id': ObjectId('62bc7bb13d4b6f346b05dd30'), 'name_method': 'GaussianBlur'}\n",
      "{'_id': ObjectId('62bc7bb13d4b6f346b05dd31'), 'name_method': 'Brightness'}\n",
      "{'_id': ObjectId('62bc7bb13d4b6f346b05dd32'), 'name_method': 'channel_shift'}\n",
      "{'_id': ObjectId('62bc7bb13d4b6f346b05dd33'), 'name_method': 'noise_img'}\n"
     ]
    }
   ],
   "source": [
    "start=time.time()\n",
    "cursor = method_col.find()\n",
    "for record in cursor:\n",
    "    print(record)\n",
    "end=time.time()\n",
    "#print(end-start)\n",
    "time_execution.append(end-start)"
   ]
  },
  {
   "cell_type": "markdown",
   "id": "48cfebf7",
   "metadata": {},
   "source": [
    "# import image from local to datbase"
   ]
  },
  {
   "cell_type": "code",
   "execution_count": 68,
   "id": "42ce446c",
   "metadata": {},
   "outputs": [],
   "source": [
    "start=time.time()\n",
    "for category in CATEGORIES:\n",
    "    path = os.path.join(DIRECTORY, category,'origin')\n",
    "    for img in os.listdir(path):\n",
    "        img_path = os.path.join(path, img)\n",
    "        #print(img_path)\n",
    "        #image = load_img(img_path)\n",
    "\n",
    "        #print(image)\n",
    "        #image = convertToBinaryData(img_path)\n",
    "        image=load_img(img_path)\n",
    "        encode_image=encode_img(image)\n",
    "        #thedata = open('thefile', 'rb').read()\n",
    "        #print(image)\n",
    "        or_image = {\n",
    "        \"image\":encode_image,\n",
    "        \"label\":category,\n",
    "        }\n",
    "        original_image_col.insert_one(or_image)\n",
    "end=time.time()\n",
    "#print(end-start)\n",
    "time_execution.append(end-start)"
   ]
  },
  {
   "cell_type": "markdown",
   "id": "7cef7272",
   "metadata": {},
   "source": [
    "# read image in database"
   ]
  },
  {
   "cell_type": "code",
   "execution_count": 69,
   "id": "6197af36",
   "metadata": {},
   "outputs": [
    {
     "name": "stderr",
     "output_type": "stream",
     "text": [
      "IOPub data rate exceeded.\n",
      "The notebook server will temporarily stop sending output\n",
      "to the client in order to avoid crashing it.\n",
      "To change this limit, set the config variable\n",
      "`--NotebookApp.iopub_data_rate_limit`.\n",
      "\n",
      "Current values:\n",
      "NotebookApp.iopub_data_rate_limit=1000000.0 (bytes/sec)\n",
      "NotebookApp.rate_limit_window=3.0 (secs)\n",
      "\n"
     ]
    }
   ],
   "source": [
    "start=time.time()\n",
    "original_images = original_image_col.find()\n",
    "for record in original_images:\n",
    "    #print(record['_id'])    \n",
    "    print(record)\n",
    "end=time.time()\n",
    "#print(end-start)\n",
    "time_execution.append(end-start)"
   ]
  },
  {
   "cell_type": "code",
   "execution_count": 70,
   "id": "25e703aa",
   "metadata": {},
   "outputs": [],
   "source": [
    "#print(end-start)"
   ]
  },
  {
   "cell_type": "code",
   "execution_count": 71,
   "id": "f3d924d3",
   "metadata": {},
   "outputs": [],
   "source": [
    "time_summary.append(time_execution)\n",
    "time_execution=[]"
   ]
  },
  {
   "cell_type": "markdown",
   "id": "c85931a3",
   "metadata": {},
   "source": [
    "# show image"
   ]
  },
  {
   "cell_type": "code",
   "execution_count": 72,
   "id": "707dcdc2",
   "metadata": {},
   "outputs": [],
   "source": [
    "original_images = list(original_image_col.find())"
   ]
  },
  {
   "cell_type": "code",
   "execution_count": 73,
   "id": "0a90d78f",
   "metadata": {},
   "outputs": [],
   "source": [
    "#print(original_images[0]['image'])"
   ]
  },
  {
   "cell_type": "code",
   "execution_count": 74,
   "id": "4740deaa",
   "metadata": {},
   "outputs": [
    {
     "data": {
      "image/png": "[encoded data removed]",
      "text/plain": [
       "<Figure size 432x288 with 1 Axes>"
      ]
     },
     "metadata": {
      "needs_background": "light"
     },
     "output_type": "display_data"
    }
   ],
   "source": [
    "encode_image =original_images[0]['image']\n",
    "image=decode_img(encode_image)\n",
    "\n",
    "plt.figure()\n",
    "plt.imshow(image, cmap=\"gray\")\n",
    "plt.show()"
   ]
  },
  {
   "cell_type": "markdown",
   "id": "8eca2ce2",
   "metadata": {
    "collapsed": true
   },
   "source": [
    "# create augmented data and store it in the database "
   ]
  },
  {
   "cell_type": "code",
   "execution_count": 75,
   "id": "9d221d75",
   "metadata": {},
   "outputs": [
    {
     "name": "stdout",
     "output_type": "stream",
     "text": [
      "62bc7bb13d4b6f346b05dd2d\n"
     ]
    }
   ],
   "source": [
    "cursor = method_col.find({'name_method': '60'})\n",
    "for record in cursor:\n",
    "    print(record['_id'])\n",
    "id_method = record['_id']"
   ]
  },
  {
   "cell_type": "code",
   "execution_count": 76,
   "id": "324a4c58",
   "metadata": {},
   "outputs": [
    {
     "name": "stdout",
     "output_type": "stream",
     "text": [
      "62bc7bb13d4b6f346b05dd2d\n"
     ]
    }
   ],
   "source": [
    "print(id_method)"
   ]
  },
  {
   "cell_type": "code",
   "execution_count": 77,
   "id": "9064afa2",
   "metadata": {},
   "outputs": [],
   "source": [
    "original_images = original_image_col.find()\n",
    "for record in original_images:\n",
    "    id_original_image=record['_id']  \n",
    "    encode_image = record['image']\n",
    "    image = decode_img(encode_image)\n",
    "    image_processing =function_methods[0](image)\n",
    "    encode_image_processing=encode_img(image_processing)\n",
    "    inf_image_processing = {\n",
    "        \"id_original_image\":id_original_image,\n",
    "        \"id_method\":id_method,\n",
    "        \"image\":encode_image_processing\n",
    "        }\n",
    "    image_processing_col.insert_one(inf_image_processing)\n"
   ]
  },
  {
   "cell_type": "markdown",
   "id": "58d75eab",
   "metadata": {},
   "source": [
    "# time summarry"
   ]
  },
  {
   "cell_type": "code",
   "execution_count": 78,
   "id": "784f21fe",
   "metadata": {},
   "outputs": [
    {
     "name": "stdout",
     "output_type": "stream",
     "text": [
      "[0.003998994827270508, 0.0030028820037841797, 0.18700647354125977, 0.021996259689331055]\n",
      "[0.0060002803802490234, 0.003058195114135742, 0.1250615119934082, 0.0019969940185546875]\n",
      "[0.0029985904693603516, 0.008006811141967773, 0.003000497817993164, 1.2370223999023438, 0.21999382972717285]\n"
     ]
    }
   ],
   "source": [
    "for i in time_summary:\n",
    "    print(i)"
   ]
  },
  {
   "cell_type": "code",
   "execution_count": 79,
   "id": "6a6cb5d9",
   "metadata": {},
   "outputs": [
    {
     "ename": "SyntaxError",
     "evalue": "'break' outside loop (668683560.py, line 1)",
     "output_type": "error",
     "traceback": [
      "\u001b[1;36m  Input \u001b[1;32mIn [79]\u001b[1;36m\u001b[0m\n\u001b[1;33m    break\u001b[0m\n\u001b[1;37m    ^\u001b[0m\n\u001b[1;31mSyntaxError\u001b[0m\u001b[1;31m:\u001b[0m 'break' outside loop\n"
     ]
    }
   ],
   "source": [
    "break"
   ]
  },
  {
   "cell_type": "code",
   "execution_count": null,
   "id": "2558508a",
   "metadata": {},
   "outputs": [],
   "source": []
  },
  {
   "cell_type": "markdown",
   "id": "799fb76a",
   "metadata": {},
   "source": [
    "# reference\n",
    "- https://appdividend.com/2020/06/23/how-to-convert-image-to-base64-string-in-python/\n",
    "- https://stackoverflow.com/questions/58861577/differences-between-pil-image-open-and-cv2-imdecode\n",
    "- https://note.nkmk.me/en/python-opencv-bgr-rgb-cvtcolor/\n",
    "- https://sqlserverguides.com/how-to-store-images-in-mongodb/\n",
    "- https://datatofish.com/how-to-connect-python-to-an-oracle-database-using-cx_oracle/"
   ]
  },
  {
   "cell_type": "markdown",
   "id": "c2fc6850",
   "metadata": {},
   "source": [
    "# Script sql"
   ]
  },
  {
   "cell_type": "code",
   "execution_count": null,
   "id": "65233ffa",
   "metadata": {},
   "outputs": [],
   "source": [
    "break "
   ]
  },
  {
   "cell_type": "code",
   "execution_count": null,
   "id": "77dbda81",
   "metadata": {},
   "outputs": [],
   "source": [
    "#https://sqlserverguides.com/how-to-store-images-in-mongodb/\n",
    "#https://datatofish.com/how-to-connect-python-to-an-oracle-database-using-cx_oracle/"
   ]
  },
  {
   "cell_type": "markdown",
   "id": "6ecdf927",
   "metadata": {},
   "source": [
    "# xampp"
   ]
  },
  {
   "cell_type": "code",
   "execution_count": null,
   "id": "8c45f24c",
   "metadata": {},
   "outputs": [],
   "source": [
    "create DATABASE augmented;\n",
    "use augmented;\n",
    "create table method_processing(\n",
    "    id_method int PRIMARY KEY AUTO_INCREMENT,\n",
    "    name_method varchar(30) \n",
    ") ENGINE = InnoDB DEFAULT CHARSET = utf8mb4;\n",
    "\n",
    "-- INSERT INTO  method_processing (name_method) VALUES (name_method)\n",
    "\n",
    "\n",
    "\n",
    "create table original_image(\n",
    "    id_original_image int PRIMARY KEY AUTO_INCREMENT,\n",
    "    image LONGBLOB NOT NULL,\n",
    "    label_img varchar(20) not null\n",
    ") ENGINE = InnoDB DEFAULT CHARSET = utf8mb4;\n",
    " \n",
    "    \n",
    "-- INSERT INTO  original_image (image,label_img) VALUES (image,label_img)\n",
    "    \n",
    "    \n",
    "create table image_processing(\n",
    "    id_original_image int ,\n",
    "    id_method int,\n",
    "    image LONGBLOB NOT NULL,\n",
    "    primary key (id_original_image, id_method),\n",
    "    FOREIGN KEY (id_original_image) REFERENCES original_image(id_original_image),\n",
    "    FOREIGN KEY (id_method) REFERENCES method_processing(id_method)\n",
    "\n",
    ") ENGINE = InnoDB DEFAULT CHARSET = utf8mb4;"
   ]
  },
  {
   "cell_type": "markdown",
   "id": "52698348",
   "metadata": {},
   "source": [
    "# oracle "
   ]
  },
  {
   "cell_type": "code",
   "execution_count": null,
   "id": "5396aab3",
   "metadata": {},
   "outputs": [],
   "source": [
    "\n",
    "\n",
    "\n",
    "create table method_processing(\n",
    "    id_method number(10) PRIMARY KEY,\n",
    "    name_method varchar(30) \n",
    ");\n",
    "\n",
    "CREATE SEQUENCE method_SEQ;\n",
    "\n",
    "\n",
    "-- create tigger using the sequence\n",
    "CREATE OR REPLACE TRIGGER method_TRG \n",
    "BEFORE INSERT ON method_processing \n",
    "FOR EACH ROW\n",
    "WHEN (new.id_method IS NULL)\n",
    "BEGIN\n",
    "  SELECT method_SEQ.NEXTVAL\n",
    "  INTO   :new.id_method\n",
    "  FROM   dual;\n",
    "END;\n",
    "\n",
    "\n",
    "\n",
    "--INSERT INTO method_processing (name_method) VALUES ('a');\n",
    "\n",
    "\n",
    "commit;\n",
    "\n",
    "  \n",
    "\n",
    "  \n",
    "  \n",
    "create table original_image(\n",
    "    id_original_image number(10) PRIMARY KEY ,\n",
    "    image bfile NOT NULL\n",
    ");\n",
    "\n",
    "CREATE SEQUENCE original_image_SEQ;\n",
    "\n",
    "\n",
    "-- create tigger using the sequence\n",
    "CREATE OR REPLACE TRIGGER original_image_TRG \n",
    "BEFORE INSERT ON original_image \n",
    "FOR EACH ROW\n",
    "WHEN (new.id_original_image IS NULL)\n",
    "BEGIN\n",
    "  SELECT original_image_SEQ.NEXTVAL\n",
    "  INTO   :new.id_original_image\n",
    "  FROM   dual;\n",
    "END;\n",
    "\n",
    "\n",
    "\n",
    "create table imageprocessing(\n",
    "    id_original_image number(10) ,\n",
    "    id_method number(10),\n",
    "    image bfile NOT NULL,\n",
    "    primary key (id_original_image, id_method),\n",
    "    FOREIGN KEY (id_original_image) REFERENCES original_image(id_original_image),\n",
    "    FOREIGN KEY (id_method) REFERENCES method_processing(id_method)\n",
    "\n",
    ");\n",
    "\n",
    "\n",
    "\n",
    "\n",
    "\n",
    "\n",
    "INSERT INTO print_media (product_id, ad_id, ad_graphic)\n",
    "   VALUES (3000, 31001, \n",
    "      BFILENAME('MEDIA_DIR', 'modem_comp_ad.gif'));"
   ]
  }
 ],
 "metadata": {
  "kernelspec": {
   "display_name": "Python 3 (ipykernel)",
   "language": "python",
   "name": "python3"
  },
  "language_info": {
   "codemirror_mode": {
    "name": "ipython",
    "version": 3
   },
   "file_extension": ".py",
   "mimetype": "text/x-python",
   "name": "python",
   "nbconvert_exporter": "python",
   "pygments_lexer": "ipython3",
   "version": "3.9.12"
  }
 },
 "nbformat": 4,
 "nbformat_minor": 5
}
