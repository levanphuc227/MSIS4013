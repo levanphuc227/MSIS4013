{
 "cells": [
  {
   "cell_type": "code",
   "execution_count": 2,
   "id": "aa9450b2",
   "metadata": {},
   "outputs": [],
   "source": [
    "import os\n",
    "os.sys.path\n",
    "import cv2\n",
    "import matplotlib.pyplot as plt\n",
    "from skimage.util import random_noise\n",
    "import requests\n",
    "import numpy as np\n",
    "import random\n",
    "import shutil\n",
    "import glob\n",
    "import time\n",
    "import io\n",
    "from tkinter import ttk\n",
    "import base64\n",
    "from imageio import imread,imwrite\n",
    "import time"
   ]
  },
  {
   "cell_type": "code",
   "execution_count": 2,
   "id": "5c357152",
   "metadata": {},
   "outputs": [
    {
     "data": {
      "text/plain": [
       "['.git',\n",
       " '.ipynb_checkpoints',\n",
       " 'database_augmented',\n",
       " 'dataset',\n",
       " 'final.ipynb',\n",
       " 'reconstructed.jpg',\n",
       " 'requiment-install.txt']"
      ]
     },
     "execution_count": 2,
     "metadata": {},
     "output_type": "execute_result"
    }
   ],
   "source": [
    "os.listdir()"
   ]
  },
  {
   "cell_type": "code",
   "execution_count": 3,
   "id": "3377488a",
   "metadata": {},
   "outputs": [],
   "source": [
    "os.chdir('dataset')"
   ]
  },
  {
   "cell_type": "code",
   "execution_count": 59,
   "id": "d71d1985",
   "metadata": {},
   "outputs": [
    {
     "name": "stdout",
     "output_type": "stream",
     "text": [
      " Volume in drive C has no label.\n",
      " Volume Serial Number is 8CDE-9BE1\n",
      "\n",
      " Directory of C:\\Users\\admin\\Documents\\MSIS4013\\dataset\n",
      "\n",
      "06/26/2022  03:27 AM    <DIR>          .\n",
      "06/26/2022  12:14 PM    <DIR>          ..\n",
      "06/23/2022  03:17 PM    <DIR>          with_mask\n",
      "06/23/2022  03:17 PM    <DIR>          without_mask\n",
      "               0 File(s)              0 bytes\n",
      "               4 Dir(s)  388,923,801,600 bytes free\n"
     ]
    }
   ],
   "source": [
    "%ls"
   ]
  },
  {
   "cell_type": "code",
   "execution_count": 60,
   "id": "5383431f",
   "metadata": {},
   "outputs": [],
   "source": [
    "def Rotate60(img):\n",
    "  rows,cols,channels= img.shape \n",
    "  M = cv2.getRotationMatrix2D((cols/2,rows/2),60,1) \n",
    "  rotate_60 = cv2.warpAffine(img,M,(cols,rows)) \n",
    "  return rotate_60"
   ]
  },
  {
   "cell_type": "code",
   "execution_count": 6,
   "id": "1ffe4641",
   "metadata": {},
   "outputs": [],
   "source": [
    "def Rotate30(img):\n",
    "    rows,cols,channels= img.shape \n",
    "    M = cv2.getRotationMatrix2D((cols/2,rows/2),60,1) \n",
    "    rotate_30 = cv2.warpAffine(img,M,(cols,rows)) \n",
    "    return rotate_30"
   ]
  },
  {
   "cell_type": "code",
   "execution_count": 7,
   "id": "04ced6d3",
   "metadata": {},
   "outputs": [],
   "source": [
    "def flip(img):\n",
    "  return cv2.flip(img, 1)"
   ]
  },
  {
   "cell_type": "code",
   "execution_count": 8,
   "id": "ff9eec96",
   "metadata": {},
   "outputs": [],
   "source": [
    "def GaussianBlur(img):\n",
    "  return cv2.GaussianBlur(img, (9,9), 5)"
   ]
  },
  {
   "cell_type": "code",
   "execution_count": 9,
   "id": "c54d4b36",
   "metadata": {},
   "outputs": [],
   "source": [
    "def brightness(img):\n",
    "    value = random.uniform( 0.5, 3)\n",
    "    hsv = cv2.cvtColor(img, cv2.COLOR_BGR2HSV)\n",
    "    hsv = np.array(hsv, dtype = np.float64)\n",
    "    hsv[:,:,1] = hsv[:,:,1]*value\n",
    "    hsv[:,:,1][hsv[:,:,1]>255]  = 255\n",
    "    hsv[:,:,2] = hsv[:,:,2]*value \n",
    "    hsv[:,:,2][hsv[:,:,2]>255]  = 255\n",
    "    hsv = np.array(hsv, dtype = np.uint8)\n",
    "    img = cv2.cvtColor(hsv, cv2.COLOR_HSV2BGR)\n",
    "    return img"
   ]
  },
  {
   "cell_type": "code",
   "execution_count": 10,
   "id": "021bc8bf",
   "metadata": {},
   "outputs": [],
   "source": [
    "def channel_shift(img):\n",
    "    value = int(random.uniform(-60, 60))\n",
    "    img = img + value\n",
    "    img[:,:,:][img[:,:,:]>255]  = 255\n",
    "    img[:,:,:][img[:,:,:]<0]  = 0\n",
    "    img = img.astype(np.uint8)\n",
    "    return img"
   ]
  },
  {
   "cell_type": "code",
   "execution_count": 11,
   "id": "cbf97f05",
   "metadata": {},
   "outputs": [],
   "source": [
    "def noiseImg(img):\n",
    "  noise_img = random_noise(image, mode='s&p',amount=0.5)\n",
    "\n",
    "\n",
    "  # The above function returns a floating-point image\n",
    "  # on the range [0, 1], thus we changed it to 'uint8'\n",
    "  # and from [0,255]\n",
    "  return np.array(255*noise_img, dtype = 'uint8')"
   ]
  },
  {
   "cell_type": "code",
   "execution_count": 12,
   "id": "dce730e2",
   "metadata": {},
   "outputs": [],
   "source": [
    "def load_img(url):\n",
    "  return cv2.imread(url)"
   ]
  },
  {
   "cell_type": "code",
   "execution_count": 13,
   "id": "b1d57119",
   "metadata": {},
   "outputs": [],
   "source": [
    "def show_img(img):\n",
    "  plt.imshow(cv2.cvtColor(img, cv2.COLOR_BGR2RGB))\n",
    "  plt.show()"
   ]
  },
  {
   "cell_type": "code",
   "execution_count": 14,
   "id": "f7286a46",
   "metadata": {},
   "outputs": [],
   "source": [
    "def save_img(filename,img):\n",
    "  save_img(filename, img)"
   ]
  },
  {
   "cell_type": "code",
   "execution_count": 15,
   "id": "9a47b956",
   "metadata": {},
   "outputs": [],
   "source": [
    "def convertToBinaryData(filename):\n",
    "    # Convert digital data to binary format\n",
    "    with open(filename, 'rb') as file:\n",
    "        binaryData = file.read()\n",
    "    return binaryData"
   ]
  },
  {
   "cell_type": "code",
   "execution_count": 16,
   "id": "afbe1ae3",
   "metadata": {},
   "outputs": [],
   "source": [
    "methods=['60','30','Flip','GaussianBlur','Brightness','channel_shift','noise_img']"
   ]
  },
  {
   "cell_type": "code",
   "execution_count": 8,
   "id": "74724d7e",
   "metadata": {},
   "outputs": [],
   "source": [
    "DIRECTORY=os.getcwd()\n",
    "CATEGORIES = [\"with_mask\", \"without_mask\"]"
   ]
  },
  {
   "cell_type": "code",
   "execution_count": 9,
   "id": "5c9d4b3c",
   "metadata": {},
   "outputs": [
    {
     "name": "stdout",
     "output_type": "stream",
     "text": [
      "C:\\Users\\admin\\Documents\\MSIS4013\n"
     ]
    }
   ],
   "source": [
    "print(DIRECTORY)"
   ]
  },
  {
   "cell_type": "code",
   "execution_count": 19,
   "id": "e891ec08",
   "metadata": {},
   "outputs": [
    {
     "name": "stdout",
     "output_type": "stream",
     "text": [
      "['C:\\\\Users\\\\admin\\\\Documents\\\\dataset\\\\without_mask', 'C:\\\\Users\\\\admin\\\\Documents\\\\dataset\\\\with_mask']\n"
     ]
    }
   ],
   "source": [
    "import glob\n",
    "print(glob.glob(DIRECTORY+'/*'))"
   ]
  },
  {
   "cell_type": "code",
   "execution_count": 20,
   "id": "c521ac87",
   "metadata": {},
   "outputs": [],
   "source": [
    "time_summary =[]\n",
    "time_execution = []\n"
   ]
  },
  {
   "cell_type": "markdown",
   "id": "f2c7ae90",
   "metadata": {},
   "source": [
    "# 1. Mysql xampp"
   ]
  },
  {
   "cell_type": "code",
   "execution_count": 21,
   "id": "ad952346",
   "metadata": {},
   "outputs": [],
   "source": [
    "from tkinter import *\n",
    "from PIL import ImageTk,Image\n",
    "from tkinter import filedialog\n",
    "import mysql.connector\n"
   ]
  },
  {
   "cell_type": "code",
   "execution_count": 22,
   "id": "2d43c3bb",
   "metadata": {},
   "outputs": [
    {
     "name": "stderr",
     "output_type": "stream",
     "text": [
      "C:\\Users\\admin\\anaconda3\\lib\\site-packages\\mysql\\connector\\abstracts.py:130: SyntaxWarning: \"is\" with a literal. Did you mean \"==\"?\n",
      "  if group is 'connector_python':\n",
      "C:\\Users\\admin\\anaconda3\\lib\\site-packages\\mysql\\connector\\abstracts.py:130: SyntaxWarning: \"is\" with a literal. Did you mean \"==\"?\n",
      "  if group is 'connector_python':\n"
     ]
    },
    {
     "ename": "InterfaceError",
     "evalue": "2003: Can't connect to MySQL server on 'localhost:3306' (10061 No connection could be made because the target machine actively refused it)",
     "output_type": "error",
     "traceback": [
      "\u001b[1;31m---------------------------------------------------------------------------\u001b[0m",
      "\u001b[1;31mConnectionRefusedError\u001b[0m                    Traceback (most recent call last)",
      "File \u001b[1;32m~\\anaconda3\\lib\\site-packages\\mysql\\connector\\network.py:509\u001b[0m, in \u001b[0;36mMySQLTCPSocket.open_connection\u001b[1;34m(self)\u001b[0m\n\u001b[0;32m    508\u001b[0m     \u001b[38;5;28mself\u001b[39m\u001b[38;5;241m.\u001b[39msock\u001b[38;5;241m.\u001b[39msettimeout(\u001b[38;5;28mself\u001b[39m\u001b[38;5;241m.\u001b[39m_connection_timeout)\n\u001b[1;32m--> 509\u001b[0m     \u001b[38;5;28;43mself\u001b[39;49m\u001b[38;5;241;43m.\u001b[39;49m\u001b[43msock\u001b[49m\u001b[38;5;241;43m.\u001b[39;49m\u001b[43mconnect\u001b[49m\u001b[43m(\u001b[49m\u001b[43msockaddr\u001b[49m\u001b[43m)\u001b[49m\n\u001b[0;32m    510\u001b[0m \u001b[38;5;28;01mexcept\u001b[39;00m \u001b[38;5;167;01mIOError\u001b[39;00m \u001b[38;5;28;01mas\u001b[39;00m err:\n",
      "\u001b[1;31mConnectionRefusedError\u001b[0m: [WinError 10061] No connection could be made because the target machine actively refused it",
      "\nDuring handling of the above exception, another exception occurred:\n",
      "\u001b[1;31mInterfaceError\u001b[0m                            Traceback (most recent call last)",
      "Input \u001b[1;32mIn [22]\u001b[0m, in \u001b[0;36m<cell line: 1>\u001b[1;34m()\u001b[0m\n\u001b[1;32m----> 1\u001b[0m connection \u001b[38;5;241m=\u001b[39m \u001b[43mmysql\u001b[49m\u001b[38;5;241;43m.\u001b[39;49m\u001b[43mconnector\u001b[49m\u001b[38;5;241;43m.\u001b[39;49m\u001b[43mconnect\u001b[49m\u001b[43m(\u001b[49m\u001b[43mhost\u001b[49m\u001b[38;5;241;43m=\u001b[39;49m\u001b[38;5;124;43m'\u001b[39;49m\u001b[38;5;124;43mlocalhost\u001b[39;49m\u001b[38;5;124;43m'\u001b[39;49m\u001b[43m,\u001b[49m\n\u001b[0;32m      2\u001b[0m \u001b[43m                                     \u001b[49m\u001b[43mdatabase\u001b[49m\u001b[38;5;241;43m=\u001b[39;49m\u001b[38;5;124;43m'\u001b[39;49m\u001b[38;5;124;43maugmented\u001b[39;49m\u001b[38;5;124;43m'\u001b[39;49m\u001b[43m,\u001b[49m\n\u001b[0;32m      3\u001b[0m \u001b[43m                                     \u001b[49m\u001b[43muser\u001b[49m\u001b[38;5;241;43m=\u001b[39;49m\u001b[38;5;124;43m'\u001b[39;49m\u001b[38;5;124;43mroot\u001b[39;49m\u001b[38;5;124;43m'\u001b[39;49m\u001b[43m,\u001b[49m\n\u001b[0;32m      4\u001b[0m \u001b[43m                                     \u001b[49m\u001b[43mpassword\u001b[49m\u001b[38;5;241;43m=\u001b[39;49m\u001b[38;5;124;43m'\u001b[39;49m\u001b[38;5;124;43m'\u001b[39;49m\u001b[43m)\u001b[49m\n\u001b[0;32m      6\u001b[0m cursor \u001b[38;5;241m=\u001b[39m connection\u001b[38;5;241m.\u001b[39mcursor()\n",
      "File \u001b[1;32m~\\anaconda3\\lib\\site-packages\\mysql\\connector\\__init__.py:179\u001b[0m, in \u001b[0;36mconnect\u001b[1;34m(*args, **kwargs)\u001b[0m\n\u001b[0;32m    177\u001b[0m     \u001b[38;5;28;01mreturn\u001b[39;00m CMySQLConnection(\u001b[38;5;241m*\u001b[39margs, \u001b[38;5;241m*\u001b[39m\u001b[38;5;241m*\u001b[39mkwargs)\n\u001b[0;32m    178\u001b[0m \u001b[38;5;28;01melse\u001b[39;00m:\n\u001b[1;32m--> 179\u001b[0m     \u001b[38;5;28;01mreturn\u001b[39;00m MySQLConnection(\u001b[38;5;241m*\u001b[39margs, \u001b[38;5;241m*\u001b[39m\u001b[38;5;241m*\u001b[39mkwargs)\n",
      "File \u001b[1;32m~\\anaconda3\\lib\\site-packages\\mysql\\connector\\connection.py:95\u001b[0m, in \u001b[0;36mMySQLConnection.__init__\u001b[1;34m(self, *args, **kwargs)\u001b[0m\n\u001b[0;32m     92\u001b[0m \u001b[38;5;28mself\u001b[39m\u001b[38;5;241m.\u001b[39m_pool_config_version \u001b[38;5;241m=\u001b[39m \u001b[38;5;28;01mNone\u001b[39;00m\n\u001b[0;32m     94\u001b[0m \u001b[38;5;28;01mif\u001b[39;00m \u001b[38;5;28mlen\u001b[39m(kwargs) \u001b[38;5;241m>\u001b[39m \u001b[38;5;241m0\u001b[39m:\n\u001b[1;32m---> 95\u001b[0m     \u001b[38;5;28mself\u001b[39m\u001b[38;5;241m.\u001b[39mconnect(\u001b[38;5;241m*\u001b[39m\u001b[38;5;241m*\u001b[39mkwargs)\n",
      "File \u001b[1;32m~\\anaconda3\\lib\\site-packages\\mysql\\connector\\abstracts.py:716\u001b[0m, in \u001b[0;36mMySQLConnectionAbstract.connect\u001b[1;34m(self, **kwargs)\u001b[0m\n\u001b[0;32m    713\u001b[0m     \u001b[38;5;28mself\u001b[39m\u001b[38;5;241m.\u001b[39mconfig(\u001b[38;5;241m*\u001b[39m\u001b[38;5;241m*\u001b[39mkwargs)\n\u001b[0;32m    715\u001b[0m \u001b[38;5;28mself\u001b[39m\u001b[38;5;241m.\u001b[39mdisconnect()\n\u001b[1;32m--> 716\u001b[0m \u001b[38;5;28;43mself\u001b[39;49m\u001b[38;5;241;43m.\u001b[39;49m\u001b[43m_open_connection\u001b[49m\u001b[43m(\u001b[49m\u001b[43m)\u001b[49m\n\u001b[0;32m    717\u001b[0m \u001b[38;5;28mself\u001b[39m\u001b[38;5;241m.\u001b[39m_post_connection()\n",
      "File \u001b[1;32m~\\anaconda3\\lib\\site-packages\\mysql\\connector\\connection.py:206\u001b[0m, in \u001b[0;36mMySQLConnection._open_connection\u001b[1;34m(self)\u001b[0m\n\u001b[0;32m    204\u001b[0m \u001b[38;5;28mself\u001b[39m\u001b[38;5;241m.\u001b[39m_protocol \u001b[38;5;241m=\u001b[39m MySQLProtocol()\n\u001b[0;32m    205\u001b[0m \u001b[38;5;28mself\u001b[39m\u001b[38;5;241m.\u001b[39m_socket \u001b[38;5;241m=\u001b[39m \u001b[38;5;28mself\u001b[39m\u001b[38;5;241m.\u001b[39m_get_connection()\n\u001b[1;32m--> 206\u001b[0m \u001b[38;5;28;43mself\u001b[39;49m\u001b[38;5;241;43m.\u001b[39;49m\u001b[43m_socket\u001b[49m\u001b[38;5;241;43m.\u001b[39;49m\u001b[43mopen_connection\u001b[49m\u001b[43m(\u001b[49m\u001b[43m)\u001b[49m\n\u001b[0;32m    207\u001b[0m \u001b[38;5;28mself\u001b[39m\u001b[38;5;241m.\u001b[39m_do_handshake()\n\u001b[0;32m    208\u001b[0m \u001b[38;5;28mself\u001b[39m\u001b[38;5;241m.\u001b[39m_do_auth(\u001b[38;5;28mself\u001b[39m\u001b[38;5;241m.\u001b[39m_user, \u001b[38;5;28mself\u001b[39m\u001b[38;5;241m.\u001b[39m_password,\n\u001b[0;32m    209\u001b[0m               \u001b[38;5;28mself\u001b[39m\u001b[38;5;241m.\u001b[39m_database, \u001b[38;5;28mself\u001b[39m\u001b[38;5;241m.\u001b[39m_client_flags, \u001b[38;5;28mself\u001b[39m\u001b[38;5;241m.\u001b[39m_charset_id,\n\u001b[0;32m    210\u001b[0m               \u001b[38;5;28mself\u001b[39m\u001b[38;5;241m.\u001b[39m_ssl)\n",
      "File \u001b[1;32m~\\anaconda3\\lib\\site-packages\\mysql\\connector\\network.py:511\u001b[0m, in \u001b[0;36mMySQLTCPSocket.open_connection\u001b[1;34m(self)\u001b[0m\n\u001b[0;32m    509\u001b[0m     \u001b[38;5;28mself\u001b[39m\u001b[38;5;241m.\u001b[39msock\u001b[38;5;241m.\u001b[39mconnect(sockaddr)\n\u001b[0;32m    510\u001b[0m \u001b[38;5;28;01mexcept\u001b[39;00m \u001b[38;5;167;01mIOError\u001b[39;00m \u001b[38;5;28;01mas\u001b[39;00m err:\n\u001b[1;32m--> 511\u001b[0m     \u001b[38;5;28;01mraise\u001b[39;00m errors\u001b[38;5;241m.\u001b[39mInterfaceError(\n\u001b[0;32m    512\u001b[0m         errno\u001b[38;5;241m=\u001b[39m\u001b[38;5;241m2003\u001b[39m, values\u001b[38;5;241m=\u001b[39m(\u001b[38;5;28mself\u001b[39m\u001b[38;5;241m.\u001b[39mget_address(), _strioerror(err)))\n\u001b[0;32m    513\u001b[0m \u001b[38;5;28;01mexcept\u001b[39;00m \u001b[38;5;167;01mException\u001b[39;00m \u001b[38;5;28;01mas\u001b[39;00m err:\n\u001b[0;32m    514\u001b[0m     \u001b[38;5;28;01mraise\u001b[39;00m errors\u001b[38;5;241m.\u001b[39mOperationalError(\u001b[38;5;28mstr\u001b[39m(err))\n",
      "\u001b[1;31mInterfaceError\u001b[0m: 2003: Can't connect to MySQL server on 'localhost:3306' (10061 No connection could be made because the target machine actively refused it)"
     ]
    }
   ],
   "source": [
    "connection = mysql.connector.connect(host='localhost',\n",
    "                                     database='augmented',\n",
    "                                     user='root',\n",
    "                                     password='')\n",
    "\n",
    "cursor = connection.cursor()\n",
    "        "
   ]
  },
  {
   "cell_type": "code",
   "execution_count": null,
   "id": "6339eaf5",
   "metadata": {},
   "outputs": [],
   "source": [
    "cursor.execute('delete from method_processing')\n",
    "cursor.execute('delete from original_image')\n",
    "cursor.execute('delete from image_processing')\n",
    "connection.commit()"
   ]
  },
  {
   "cell_type": "code",
   "execution_count": null,
   "id": "8098c43e",
   "metadata": {},
   "outputs": [],
   "source": [
    "start =time.time()\n",
    "try:\n",
    "    for method in methods:\n",
    "        #print(method)\n",
    "        value=(method)\n",
    "        my_string = \"INSERT INTO method_processing (name_method) VALUES ('{}')\".format(method)\n",
    "        print(my_string)\n",
    "        cursor.execute(my_string)\n",
    "        #connection.commit()\n",
    "except mysql.connector.Error as error:\n",
    "    print(\"Failed inserting BLOB data into MySQL table {}\".format(error))\n",
    "end =time.time()\n",
    "time_execution.append(end-start)"
   ]
  },
  {
   "cell_type": "code",
   "execution_count": null,
   "id": "58356841",
   "metadata": {},
   "outputs": [],
   "source": [
    "#print(end-start)"
   ]
  },
  {
   "cell_type": "code",
   "execution_count": null,
   "id": "7f94d41d",
   "metadata": {},
   "outputs": [],
   "source": [
    "start=time.time()\n",
    "cursor.execute(\"SELECT * FROM method_processing\")\n",
    "\n",
    "myresult = cursor.fetchall()\n",
    "\n",
    "for x in myresult:\n",
    "    print(x)\n",
    "end=time.time()\n",
    "time_execution.append(end-start)"
   ]
  },
  {
   "cell_type": "code",
   "execution_count": null,
   "id": "7ce307f6",
   "metadata": {},
   "outputs": [],
   "source": [
    "#print(end-start)"
   ]
  },
  {
   "cell_type": "code",
   "execution_count": null,
   "id": "28ab74e7",
   "metadata": {
    "scrolled": true
   },
   "outputs": [],
   "source": [
    "start=time.time()\n",
    "try:\n",
    "    for category in CATEGORIES:\n",
    "        path = os.path.join(DIRECTORY, category,'origin')\n",
    "        for img in os.listdir(path)[0:5]:\n",
    "            #print(img)\n",
    "            img_path = os.path.join(path, img)\n",
    "            #print(img_path)\n",
    "            image = convertToBinaryData(img_path)            \n",
    "            sql = \"INSERT INTO original_image (image,label_img) VALUES (%s,%s)\"\n",
    "            #print(image)\n",
    "            cursor.execute(sql, (image,category,))\n",
    "except mysql.connector.Error as error:\n",
    "    print(\"Failed inserting BLOB data into MySQL table {}\".format(error))\n",
    "end=time.time()\n",
    "time_execution.append(end-start)"
   ]
  },
  {
   "cell_type": "code",
   "execution_count": null,
   "id": "8b2d198d",
   "metadata": {},
   "outputs": [],
   "source": [
    "#print(end-start)"
   ]
  },
  {
   "cell_type": "code",
   "execution_count": null,
   "id": "ba6f007d",
   "metadata": {},
   "outputs": [],
   "source": [
    "start=time.time()\n",
    "cursor.execute(\"SELECT * FROM original_image\")\n",
    "\n",
    "myresult = cursor.fetchall()\n",
    "\n",
    "for x in myresult:\n",
    "    print(x)\n",
    "end=time.time()\n",
    "time_execution.append(end-start)"
   ]
  },
  {
   "cell_type": "code",
   "execution_count": null,
   "id": "3d6d5a8d",
   "metadata": {},
   "outputs": [],
   "source": [
    "#print(end-start)"
   ]
  },
  {
   "cell_type": "code",
   "execution_count": null,
   "id": "0344b276",
   "metadata": {},
   "outputs": [],
   "source": [
    "time_summary.append(time_execution)\n",
    "time_execution=[]"
   ]
  },
  {
   "cell_type": "code",
   "execution_count": null,
   "id": "4fdf5f08",
   "metadata": {},
   "outputs": [],
   "source": [
    "#myresult[0][1]"
   ]
  },
  {
   "cell_type": "code",
   "execution_count": null,
   "id": "987b4cf1",
   "metadata": {},
   "outputs": [],
   "source": [
    "data = myresult[0][1]\n",
    "b64_bytes = base64.b64encode(data)\n",
    "b64_string = b64_bytes.decode()\n",
    "#print(b64_bytes)\n",
    "img = imread(io.BytesIO(base64.b64decode(b64_string)))\n",
    "plt.figure()\n",
    "plt.imshow(img, cmap=\"gray\")\n",
    "plt.show()"
   ]
  },
  {
   "cell_type": "code",
   "execution_count": null,
   "id": "50ee3848",
   "metadata": {},
   "outputs": [],
   "source": [
    "#print(img)"
   ]
  },
  {
   "cell_type": "code",
   "execution_count": null,
   "id": "4b6c54d5",
   "metadata": {},
   "outputs": [],
   "source": [
    "connection.commit()"
   ]
  },
  {
   "cell_type": "code",
   "execution_count": 23,
   "id": "57cc3134",
   "metadata": {},
   "outputs": [
    {
     "ename": "NameError",
     "evalue": "name 'connection' is not defined",
     "output_type": "error",
     "traceback": [
      "\u001b[1;31m---------------------------------------------------------------------------\u001b[0m",
      "\u001b[1;31mNameError\u001b[0m                                 Traceback (most recent call last)",
      "Input \u001b[1;32mIn [23]\u001b[0m, in \u001b[0;36m<cell line: 1>\u001b[1;34m()\u001b[0m\n\u001b[1;32m----> 1\u001b[0m \u001b[43mconnection\u001b[49m\u001b[38;5;241m.\u001b[39mclose()\n",
      "\u001b[1;31mNameError\u001b[0m: name 'connection' is not defined"
     ]
    }
   ],
   "source": [
    "connection.close()"
   ]
  },
  {
   "cell_type": "markdown",
   "id": "fd809e0e",
   "metadata": {},
   "source": [
    "# 2. Oracle SQL"
   ]
  },
  {
   "cell_type": "code",
   "execution_count": null,
   "id": "0de9002a",
   "metadata": {},
   "outputs": [],
   "source": [
    "import cx_Oracle\n",
    "\n",
    "#dsn_tns = cx_Oracle.makedsn('Host Name', 'Port Number', service_name='Service Name') # if needed, place an 'r' before any parameter in order to address special characters such as '\\'.\n",
    "dsn_tns = cx_Oracle.makedsn('localhost', '1521', service_name='orcl') # if needed, place an 'r' before any parameter in order to address special characters such as '\\'.\n",
    "conn = cx_Oracle.connect(user=r'C##final', password='final', dsn=dsn_tns) # if needed, place an 'r' before any parameter in order to address special characters such as '\\'. For example, if your user name contains '\\', you'll need to place 'r' before the user name: user=r'User Name'\n",
    "\n",
    "c = conn.cursor()"
   ]
  },
  {
   "cell_type": "code",
   "execution_count": null,
   "id": "ae037980",
   "metadata": {},
   "outputs": [],
   "source": [
    "c.execute('delete from  method_processing') \n",
    "c.execute('delete from  original_image') \n",
    "c.execute('delete from  image_processing') \n",
    "conn.commit()"
   ]
  },
  {
   "cell_type": "code",
   "execution_count": null,
   "id": "09ccd12f",
   "metadata": {},
   "outputs": [],
   "source": [
    "start=time.time()\n",
    "for method in methods:\n",
    "    print(method)\n",
    "    value=(method,)\n",
    "    c.execute( \"INSERT INTO method_processing (name_method) VALUES (:0)\",(method,))\n",
    "end=time.time()\n",
    "time_execution.append(end-start)"
   ]
  },
  {
   "cell_type": "code",
   "execution_count": null,
   "id": "9097fe97",
   "metadata": {},
   "outputs": [],
   "source": [
    "#print(end-start)"
   ]
  },
  {
   "cell_type": "code",
   "execution_count": null,
   "id": "a5777d62",
   "metadata": {},
   "outputs": [],
   "source": [
    "start=time.time()\n",
    "c.execute('select * from  method_processing ') \n",
    "for row in c:\n",
    "    print (row[0], '-', row[1])\n",
    "end=time.time()\n",
    "#print(end-start)\n",
    "time_execution.append(end-start)"
   ]
  },
  {
   "cell_type": "code",
   "execution_count": null,
   "id": "535219d3",
   "metadata": {},
   "outputs": [],
   "source": [
    "conn.commit()"
   ]
  },
  {
   "cell_type": "code",
   "execution_count": null,
   "id": "2c775c3a",
   "metadata": {},
   "outputs": [],
   "source": [
    "start=time.time()\n",
    "for category in CATEGORIES:\n",
    "    path = os.path.join(DIRECTORY, category,'origin')\n",
    "    for img in os.listdir(path)[0:5]:\n",
    "        #print(img)\n",
    "        img_path = os.path.join(path, img)\n",
    "        #print(img_path)\n",
    "        image = convertToBinaryData(img_path)            \n",
    "        c.execute( \"INSERT INTO original_image (image,label_img) VALUES (:0,:1)\",(image,category))\n",
    "        \n",
    "end=time.time()\n",
    "#print(end-start)\n",
    "time_execution.append(end-start)"
   ]
  },
  {
   "cell_type": "code",
   "execution_count": null,
   "id": "0f4aeb27",
   "metadata": {},
   "outputs": [],
   "source": [
    "start=time.time()\n",
    "c.execute('select * from  original_image ') \n",
    "original_images=c.fetchall()\n",
    "for row in original_images:\n",
    "    print (row)\n",
    "end=time.time()\n",
    "#print(end-start)\n",
    "time_execution.append(end-start)"
   ]
  },
  {
   "cell_type": "code",
   "execution_count": null,
   "id": "58a2f54e",
   "metadata": {},
   "outputs": [],
   "source": [
    "time_summary.append(time_execution)\n",
    "time_execution=[]"
   ]
  },
  {
   "cell_type": "code",
   "execution_count": null,
   "id": "ed234529",
   "metadata": {},
   "outputs": [],
   "source": [
    "img= original_images[0][1].read()"
   ]
  },
  {
   "cell_type": "code",
   "execution_count": null,
   "id": "a984ede8",
   "metadata": {},
   "outputs": [],
   "source": [
    "#print(img)"
   ]
  },
  {
   "cell_type": "code",
   "execution_count": null,
   "id": "1fc52777",
   "metadata": {},
   "outputs": [],
   "source": [
    "b64_bytes = base64.b64encode(img)\n",
    "b64_string = b64_bytes.decode()\n",
    "#print(b64_bytes)\n",
    "img = imread(io.BytesIO(base64.b64decode(b64_string)))\n",
    "plt.figure()\n",
    "plt.imshow(img, cmap=\"gray\")\n",
    "plt.show()"
   ]
  },
  {
   "cell_type": "code",
   "execution_count": null,
   "id": "0477f7fa",
   "metadata": {},
   "outputs": [],
   "source": [
    "conn.commit()"
   ]
  },
  {
   "cell_type": "code",
   "execution_count": null,
   "id": "8093a1d9",
   "metadata": {},
   "outputs": [],
   "source": [
    "conn.close()"
   ]
  },
  {
   "cell_type": "markdown",
   "id": "7705d681",
   "metadata": {},
   "source": [
    "# 3. Mongodb"
   ]
  },
  {
   "cell_type": "code",
   "execution_count": null,
   "id": "73e55d0e",
   "metadata": {},
   "outputs": [],
   "source": [
    "from pymongo import MongoClient\n",
    "\n",
    "connection = MongoClient(\"localhost\", 27017)\n",
    "\n",
    "database = connection['final4013']"
   ]
  },
  {
   "cell_type": "code",
   "execution_count": null,
   "id": "97f7a329",
   "metadata": {},
   "outputs": [],
   "source": [
    "print(database.list_collection_names())\n"
   ]
  },
  {
   "cell_type": "code",
   "execution_count": null,
   "id": "2c391d85",
   "metadata": {},
   "outputs": [],
   "source": [
    "method_col = database[\"method_processing\"]\n",
    "original_image_col = database[\"original_image\"]\n",
    "image_processing_col = database[\"image_processing\"]\n"
   ]
  },
  {
   "cell_type": "code",
   "execution_count": null,
   "id": "34f1289f",
   "metadata": {},
   "outputs": [],
   "source": [
    "method_col.delete_many({})\n",
    "original_image_col.delete_many({})\n",
    "image_processing_col.delete_many({})"
   ]
  },
  {
   "cell_type": "code",
   "execution_count": null,
   "id": "4b2f4925",
   "metadata": {},
   "outputs": [],
   "source": [
    "start=time.time()\n",
    "for method in methods:\n",
    "    #print(i)\n",
    "    name_method = {\n",
    "        \"name_method\":method\n",
    "        }\n",
    "    method_col.insert_one(name_method)\n",
    "\n",
    "end=time.time()\n",
    "time_execution.append(end-start)\n",
    "#print(end-start)\n"
   ]
  },
  {
   "cell_type": "code",
   "execution_count": null,
   "id": "ac52f134",
   "metadata": {},
   "outputs": [],
   "source": [
    "start=time.time()\n",
    "cursor = method_col.find()\n",
    "for record in cursor:\n",
    "    print(record)\n",
    "end=time.time()\n",
    "#print(end-start)\n",
    "time_execution.append(end-start)"
   ]
  },
  {
   "cell_type": "code",
   "execution_count": null,
   "id": "42ce446c",
   "metadata": {},
   "outputs": [],
   "source": [
    "start=time.time()\n",
    "for category in CATEGORIES:\n",
    "    path = os.path.join(DIRECTORY, category,'origin')\n",
    "    for img in os.listdir(path)[0:5]:\n",
    "        img_path = os.path.join(path, img)\n",
    "        #print(img_path)\n",
    "        #image = load_img(img_path)\n",
    "\n",
    "        #print(image)\n",
    "        image = convertToBinaryData(img_path)\n",
    "        #thedata = open('thefile', 'rb').read()\n",
    "        #print(image)\n",
    "        or_image = {\n",
    "        \"image\":image,\n",
    "        \"label\":category,\n",
    "        }\n",
    "        original_image_col.insert_one(or_image)\n",
    "end=time.time()\n",
    "#print(end-start)\n",
    "time_execution.append(end-start)"
   ]
  },
  {
   "cell_type": "code",
   "execution_count": null,
   "id": "6197af36",
   "metadata": {},
   "outputs": [],
   "source": [
    "start=time.time()\n",
    "original_images = original_image_col.find()\n",
    "for record in original_images:\n",
    "    #print(record['_id'])    \n",
    "    print(record)\n",
    "end=time.time()\n",
    "#print(end-start)\n",
    "time_execution.append(end-start)"
   ]
  },
  {
   "cell_type": "code",
   "execution_count": null,
   "id": "25e703aa",
   "metadata": {},
   "outputs": [],
   "source": [
    "#print(end-start)"
   ]
  },
  {
   "cell_type": "code",
   "execution_count": null,
   "id": "f3d924d3",
   "metadata": {},
   "outputs": [],
   "source": [
    "time_summary.append(time_execution)\n",
    "time_execution=[]"
   ]
  },
  {
   "cell_type": "code",
   "execution_count": null,
   "id": "707dcdc2",
   "metadata": {},
   "outputs": [],
   "source": [
    "original_images = list(original_image_col.find())"
   ]
  },
  {
   "cell_type": "code",
   "execution_count": null,
   "id": "0a90d78f",
   "metadata": {},
   "outputs": [],
   "source": [
    "print(original_images[0]['image'])"
   ]
  },
  {
   "cell_type": "code",
   "execution_count": null,
   "id": "4740deaa",
   "metadata": {
    "scrolled": false
   },
   "outputs": [],
   "source": [
    "img =original_images[0]['image']\n",
    "b64_bytes = base64.b64encode(img)\n",
    "b64_string = b64_bytes.decode()\n",
    "\n",
    "#print(img)\n",
    "img = imread(io.BytesIO(base64.b64decode(b64_string)))\n",
    "print(img)\n",
    "plt.figure()\n",
    "plt.imshow(img, cmap=\"gray\")\n",
    "plt.show()"
   ]
  },
  {
   "cell_type": "code",
   "execution_count": null,
   "id": "b8da330e",
   "metadata": {},
   "outputs": [],
   "source": [
    "#img =original_images[0]['image']\n",
    "#b64_bytes = base64.b64encode(img)\n",
    "#print()\n",
    "#b64_string = b64_bytes.decode()\n",
    "#print()\n"
   ]
  },
  {
   "cell_type": "markdown",
   "id": "58d75eab",
   "metadata": {},
   "source": [
    "# time summarry"
   ]
  },
  {
   "cell_type": "code",
   "execution_count": null,
   "id": "784f21fe",
   "metadata": {},
   "outputs": [],
   "source": [
    "for i in time_summary:\n",
    "    print(i)"
   ]
  },
  {
   "cell_type": "code",
   "execution_count": null,
   "id": "6a6cb5d9",
   "metadata": {},
   "outputs": [],
   "source": [
    "break"
   ]
  },
  {
   "cell_type": "markdown",
   "id": "36abb3fa",
   "metadata": {},
   "source": [
    "# Convert image to binary"
   ]
  },
  {
   "cell_type": "code",
   "execution_count": 14,
   "id": "ef3b5dee",
   "metadata": {},
   "outputs": [
    {
     "data": {
      "image/png": "[encoded data removed]",
      "text/plain": [
       "<Figure size 576x864 with 5 Axes>"
      ]
     },
     "metadata": {
      "needs_background": "light"
     },
     "output_type": "display_data"
    }
   ],
   "source": [
    "import cv2\n",
    "from io import BytesIO\n",
    "from matplotlib import pyplot as plt\n",
    "import numpy as np\n",
    "from PIL import Image\n",
    "import skimage\n",
    "\n",
    "DIRECTORY=os.getcwd()\n",
    "CATEGORIES = [\"with_mask\", \"without_mask\"]\n",
    "\n",
    "#filename = r\"C:\\Users\\admin\\Documents\\dataset\\with_mask\\origin\\10.jpg\"\n",
    "\n",
    "filename=os.path.join(DIRECTORY,CATEGORIES[0],'origin','10.jpg')\n",
    "\n",
    "def bytes_to_ndarray(bytes):\n",
    "    bytes_io = bytearray(bytes)\n",
    "    img = Image.open(BytesIO(bytes_io))\n",
    "    return np.array(img)\n",
    "\n",
    "\n",
    "# skimage returns a ndarray with RGB ordering\n",
    "#img_sk = skimage.data.astronaut()\n",
    "img_sk=cv2.imread(filename)\n",
    "# Opening a saved PNG file of this image using Pillow returns a ndarray with RGB ordering\n",
    "img_pil = Image.open(filename)\n",
    "\n",
    "# Opening a saved PNG file of this image using OpenCV returns a ndarray with BGR ordering\n",
    "\n",
    "img_cv = cv2.imread(filename, cv2.IMREAD_COLOR)\n",
    "\n",
    "# OpenCV uses BGR ordering, thus OpenCV's encoding treats img_sk[:, :, 0] as blue channel,\n",
    "# although it's the actual red channel (the same for img_sk[:, :, 2]\n",
    "# That means, the encoded byte stream now has BGR ordering!!\n",
    "_, bytes = cv2.imencode('.png', img_sk)\n",
    "\n",
    "# OpenCV uses BGR ordering, but OpenCV's decoding assumes a RGB ordered byte stream, so\n",
    "# the blue and red channels are swapped again here, such that img_cv again is a ndarray with\n",
    "# RGB ordering!!\n",
    "img_byte_cv = cv2.imdecode(bytes, cv2.IMREAD_ANYCOLOR)\n",
    "#img_byte_cv= cv2.cvtColor(im_cv, cv2.COLOR_BGR2RGB)\n",
    "# Pillow uses RGB ordering, and also assumes a RGB ordered byte stream, but the actual byte\n",
    "# stream is BGR ordered, such that img_pil actually is a ndarray with BGR ordering\n",
    "img_byte_pil = bytes_to_ndarray(bytes)\n",
    "\n",
    "# Matplotlib pyplot imshow uses RGB ordering for visualization!!\n",
    "plt.figure(figsize=(8, 12))\n",
    "plt.subplot(3, 2, 1), plt.imshow(img_pil), plt.ylabel('PNG loaded with Pillow')\n",
    "plt.subplot(3, 2, 2), plt.imshow(img_cv), plt.ylabel('PNG loaded with OpenCV')\n",
    "plt.subplot(3, 2, 3), plt.imshow(img_sk), plt.ylabel('Loaded with skimage')\n",
    "plt.subplot(3, 2, 5), plt.imshow(img_byte_pil), plt.ylabel('Decoded with Pillow')\n",
    "plt.subplot(3, 2, 6), plt.imshow(img_byte_cv), plt.ylabel('Decoded with OpenCV')\n",
    "plt.show()"
   ]
  },
  {
   "cell_type": "code",
   "execution_count": null,
   "id": "35ebd440",
   "metadata": {},
   "outputs": [],
   "source": []
  },
  {
   "cell_type": "markdown",
   "id": "489c4d4a",
   "metadata": {},
   "source": [
    "# unknow"
   ]
  },
  {
   "cell_type": "code",
   "execution_count": 14,
   "id": "f2513f5a",
   "metadata": {},
   "outputs": [],
   "source": [
    "import os\n",
    "os.sys.path\n",
    "import cv2\n",
    "import matplotlib.pyplot as plt\n",
    "from skimage.util import random_noise\n",
    "import requests\n",
    "import numpy as np\n",
    "import random\n",
    "import shutil\n",
    "import glob\n",
    "import time\n",
    "import io\n",
    "from tkinter import ttk\n",
    "import base64\n",
    "from imageio import imread,imwrite\n",
    "import os\n",
    "from PIL import Image"
   ]
  },
  {
   "cell_type": "code",
   "execution_count": 36,
   "id": "64c7d86b",
   "metadata": {},
   "outputs": [],
   "source": [
    "DIRECTORY=os.getcwd()\n",
    "CATEGORIES = [\"with_mask\", \"without_mask\"]\n",
    "\n",
    "#filename = r\"C:\\Users\\admin\\Documents\\dataset\\with_mask\\origin\\10.jpg\"\n",
    "\n",
    "filename=os.path.join(DIRECTORY,CATEGORIES[0],'origin','10.jpg')\n",
    "with open(filename, \"rb\") as fid:\n",
    "    data = fid.read()\n",
    "img = data\n",
    "#print(data)\n",
    "b64_bytes = base64.b64encode(img)\n",
    "b64_string = b64_bytes.decode()\n",
    "#print(img)\n",
    "image = imread(io.BytesIO(base64.b64decode(b64_string)))\n",
    "#print(image)\n",
    "#plt.figure()\n",
    "#plt.imshow(image, cmap=\"gray\")\n",
    "#plt.show()\n"
   ]
  },
  {
   "cell_type": "code",
   "execution_count": 59,
   "id": "3d846af2",
   "metadata": {},
   "outputs": [
    {
     "data": {
      "text/plain": [
       "(365, 245, 3)"
      ]
     },
     "execution_count": 59,
     "metadata": {},
     "output_type": "execute_result"
    }
   ],
   "source": [
    "#image = cv2.imread(filename, 1)\n",
    "#print(image)\n",
    "image.shape"
   ]
  },
  {
   "cell_type": "code",
   "execution_count": 43,
   "id": "dfc6c6ef",
   "metadata": {},
   "outputs": [],
   "source": [
    "retval, buffer = cv2.imencode('.jpg', image)\n",
    "#print(buffer)\n",
    "encode_image = base64.b64encode(buffer)\n",
    "decoded_image = base64.b64decode(encode_image)\n",
    "#print(decoded_image)"
   ]
  },
  {
   "cell_type": "code",
   "execution_count": 26,
   "id": "5b2ff05c",
   "metadata": {},
   "outputs": [],
   "source": [
    "b64_bytes = base64.b64encode(decoded_image)\n",
    "b64_string = b64_bytes.decode()\n",
    "#print(img)\n",
    "#image = imread(io.BytesIO(base64.b64decode(b64_string)))\n",
    "#print(image)\n",
    "#plt.figure()\n",
    "#plt.imshow(image, cmap=\"gray\")\n",
    "#plt.show()"
   ]
  },
  {
   "cell_type": "code",
   "execution_count": 81,
   "id": "3a59915a",
   "metadata": {},
   "outputs": [
    {
     "name": "stdout",
     "output_type": "stream",
     "text": [
      "JPEG\n",
      "(365, 245, 3)\n",
      "[[[134 142 161]\n",
      "  [133 141 160]\n",
      "  [133 140 159]\n",
      "  ...\n",
      "  [ 30  30  40]\n",
      "  [ 31  31  41]\n",
      "  [ 32  32  42]]\n",
      "\n",
      " [[134 142 161]\n",
      "  [132 140 159]\n",
      "  [141 148 167]\n",
      "  ...\n",
      "  [ 30  30  40]\n",
      "  [ 30  30  40]\n",
      "  [ 30  30  40]]\n",
      "\n",
      " [[138 145 164]\n",
      "  [137 144 163]\n",
      "  [130 137 156]\n",
      "  ...\n",
      "  [ 31  31  39]\n",
      "  [ 31  31  39]\n",
      "  [ 31  31  41]]\n",
      "\n",
      " ...\n",
      "\n",
      " [[253 253 253]\n",
      "  [253 253 253]\n",
      "  [253 253 253]\n",
      "  ...\n",
      "  [113  82  77]\n",
      "  [120  91  87]\n",
      "  [127  99  96]]\n",
      "\n",
      " [[253 253 253]\n",
      "  [253 253 253]\n",
      "  [252 252 252]\n",
      "  ...\n",
      "  [105  72  67]\n",
      "  [120  89  86]\n",
      "  [115  85  83]]\n",
      "\n",
      " [[254 252 253]\n",
      "  [253 251 252]\n",
      "  [253 251 252]\n",
      "  ...\n",
      "  [104  71  64]\n",
      "  [115  84  81]\n",
      "  [113  83  81]]]\n"
     ]
    }
   ],
   "source": [
    "DIRECTORY=os.getcwd()\n",
    "CATEGORIES = [\"with_mask\", \"without_mask\"]\n",
    "\n",
    "#filename = r\"C:\\Users\\admin\\Documents\\dataset\\with_mask\\origin\\10.jpg\"\n",
    "\n",
    "filename=os.path.join(DIRECTORY,CATEGORIES[0],'origin','10.jpg')\n",
    "\n",
    "im = Image.open(filename)\n",
    "print(im.format)\n",
    "img = np.array(im)\n",
    "print(imgArray.shape)  \n",
    "print(imgArray)"
   ]
  },
  {
   "cell_type": "code",
   "execution_count": 82,
   "id": "02bc5a61",
   "metadata": {},
   "outputs": [],
   "source": [
    "retval, buffer = cv2.imencode('.'+im.format, imgArray)\n",
    "#print(buffer)\n",
    "encode_image = base64.b64encode(buffer)\n",
    "decoded_image = base64.b64decode(encode_image)\n",
    "#print(decoded_image)"
   ]
  },
  {
   "cell_type": "code",
   "execution_count": 84,
   "id": "5bd06316",
   "metadata": {},
   "outputs": [],
   "source": [
    "b64_bytes = base64.b64encode(decoded_image)\n",
    "b64_string = b64_bytes.decode()\n",
    "#print(img)\n",
    "#image = imread(io.BytesIO(base64.b64decode(b64_string)))\n",
    "#print(image)\n",
    "#plt.figure()\n",
    "#plt.imshow(image, cmap=\"gray\")\n",
    "#plt.show()"
   ]
  },
  {
   "cell_type": "code",
   "execution_count": null,
   "id": "2558508a",
   "metadata": {},
   "outputs": [],
   "source": []
  },
  {
   "cell_type": "markdown",
   "id": "799fb76a",
   "metadata": {},
   "source": [
    "# reference\n",
    "- https://appdividend.com/2020/06/23/how-to-convert-image-to-base64-string-in-python/\n",
    "- https://stackoverflow.com/questions/58861577/differences-between-pil-image-open-and-cv2-imdecode\n",
    "- https://note.nkmk.me/en/python-opencv-bgr-rgb-cvtcolor/"
   ]
  },
  {
   "cell_type": "markdown",
   "id": "c2fc6850",
   "metadata": {},
   "source": [
    "# tmp"
   ]
  },
  {
   "cell_type": "code",
   "execution_count": null,
   "id": "65233ffa",
   "metadata": {},
   "outputs": [],
   "source": [
    "break "
   ]
  },
  {
   "cell_type": "code",
   "execution_count": null,
   "id": "ef2a624a",
   "metadata": {},
   "outputs": [],
   "source": [
    "import base64\n",
    "import io\n",
    "import cv2\n",
    "from imageio import imread\n",
    "import matplotlib.pyplot as plt\n"
   ]
  },
  {
   "cell_type": "code",
   "execution_count": null,
   "id": "6a166cd9",
   "metadata": {},
   "outputs": [],
   "source": [
    "\n",
    "filename = r\"C:\\Users\\admin\\Documents\\dataset\\with_mask\\origin\\10.jpg\"\n",
    "with open(filename, \"rb\") as fid:\n",
    "    data = fid.read()\n",
    "\n",
    "#print(data)\n",
    "b64_bytes = base64.b64encode(data)\n",
    "b64_string = b64_bytes.decode()\n",
    "\n",
    "\n",
    "# reconstruct image as an numpy array\n",
    "\n",
    "img = imread(io.BytesIO(base64.b64decode(b64_string)))\n",
    "\n",
    "# show image\n",
    "plt.figure()\n",
    "plt.imshow(img, cmap=\"gray\")\n",
    "\n",
    "# finally convert RGB image to BGR for opencv\n",
    "# and save result\n",
    "cv2_img = cv2.cvtColor(img, cv2.COLOR_RGB2BGR)\n",
    "#cv2.imwrite(\"reconstructed.jpg\", cv2_img)\n",
    "plt.show()"
   ]
  },
  {
   "cell_type": "code",
   "execution_count": null,
   "id": "3200c3d4",
   "metadata": {},
   "outputs": [],
   "source": [
    "try:\n",
    "    connection = mysql.connector.connect(host='localhost',\n",
    "                                         database='augmented',\n",
    "                                         user='root',\n",
    "                                         password='')\n",
    "\n",
    "    cursor = connection.cursor()\n",
    "        \n",
    "\n",
    "except mysql.connector.Error as error:\n",
    "    print(\"Failed inserting BLOB data into MySQL table {}\".format(error))\n",
    "    \n",
    "finally:\n",
    "    if connection.is_connected():\n",
    "        cursor.close()\n",
    "        connection.close()\n",
    "        print(\"MySQL connection is closed\")"
   ]
  },
  {
   "cell_type": "code",
   "execution_count": null,
   "id": "c7bef63d",
   "metadata": {},
   "outputs": [],
   "source": [
    "create table method_processing(\n",
    "    id_method int(10) PRIMARY KEY AUTO_INCREMENT,\n",
    "    name_method varchar(30) \n",
    ") ENGINE = InnoDB DEFAULT CHARSET = utf8mb4;\n",
    "\n",
    "INSERT INTO\n",
    "    method_processing (name_method) VALUES (name_method)\n",
    "\n",
    "\n",
    "create table original_image(\n",
    "    id_original_image int(10) PRIMARY KEY AUTO_INCREMENT,\n",
    "    image LONGBLOB NOT NULL\n",
    ") ENGINE = InnoDB DEFAULT CHARSET = utf8mb4;\n",
    "\n",
    "INSERT INTO\n",
    "    original_image (image) VALUES (image)\n",
    "\n",
    "create table imageprocessing(\n",
    "    id_original_image int(10) ,\n",
    "    id_method int,\n",
    "    image LONGBLOB NOT NULL,\n",
    "    primary key (id_original_image, id_method),\n",
    "    FOREIGN KEY (id_original_image) REFERENCES original_image(id_original_image),\n",
    "    FOREIGN KEY (id_method) REFERENCES method_processing(id_method)\n",
    "\n",
    ") ENGINE = InnoDB DEFAULT CHARSET = utf8mb4;"
   ]
  },
  {
   "cell_type": "code",
   "execution_count": null,
   "id": "8afedd80",
   "metadata": {},
   "outputs": [],
   "source": [
    "\n",
    "mydb = mysql.connector.connect(\n",
    "  host=\"localhost\",\n",
    "  user=\"yourusername\",\n",
    "  password=\"yourpassword\",\n",
    "  database=\"mydatabase\"\n",
    ")\n",
    "\n",
    "mycursor = mydb.cursor()\n",
    "\n",
    "mycursor.execute(\"SELECT * FROM customers\")\n",
    "\n",
    "myresult = mycursor.fetchall()\n",
    "\n",
    "for x in myresult:\n",
    "  print(x)"
   ]
  },
  {
   "cell_type": "code",
   "execution_count": null,
   "id": "248f11f6",
   "metadata": {},
   "outputs": [],
   "source": [
    "import base64\n",
    "import io\n",
    "import cv2\n",
    "from imageio import imread\n",
    "import matplotlib.pyplot as plt\n",
    "\n",
    "filename = \"yourfile.jpg\"\n",
    "with open(filename, \"rb\") as fid:\n",
    "    data = fid.read()\n",
    "\n",
    "b64_bytes = base64.b64encode(data)\n",
    "b64_string = b64_bytes.decode()\n",
    "\n",
    "# reconstruct image as an numpy array\n",
    "img = imread(io.BytesIO(base64.b64decode(b64_string)))\n",
    "\n",
    "# show image\n",
    "plt.figure()\n",
    "plt.imshow(img, cmap=\"gray\")\n",
    "\n",
    "# finally convert RGB image to BGR for opencv\n",
    "# and save result\n",
    "cv2_img = cv2.cvtColor(img, cv2.COLOR_RGB2BGR)\n",
    "cv2.imwrite(\"reconstructed.jpg\", cv2_img)\n",
    "plt.show()"
   ]
  },
  {
   "cell_type": "code",
   "execution_count": null,
   "id": "da8b8ed3",
   "metadata": {},
   "outputs": [],
   "source": [
    "method=['60','30','Flip','GaussianBlur','Brightness','channel_shift','noise_img']\n",
    "for category in CATEGORIES:\n",
    "    path = os.path.join(DIRECTORY, category,'origin')\n",
    "    save = os.path.join(DIRECTORY, category,'data management')\n",
    "    if(os.path.exists(save)):\n",
    "      shutil.rmtree(save)\n",
    "    os.mkdir(save)\n",
    "    for index in method:\n",
    "      folder=os.path.join(save,index)\n",
    "      if(os.path.exists(folder)):\n",
    "        os.rmdir(folder)\n",
    "      os.mkdir(folder)\n",
    "    # print(os.listdir(path))\n",
    "    for img in os.listdir(path):\n",
    "      i=0\n",
    "      # print(img)\n",
    "      img_path = os.path.join(path, img)\n",
    "      # print(img_path)\n",
    "      image = load_img(img_path)\n",
    "      \n",
    "\n",
    "      #origin\n",
    "      filename=save+'/'+method[i]+'_'+img\n",
    "      filename=os.path.join(save,method[i],img)\n",
    "      i=i+1\n",
    "      cv2.imwrite(filename, image)\n",
    "      #60\n",
    "      rotate_60 =Rotate60(image) \n",
    "      filename=os.path.join(save,method[i],img)\n",
    "      i=i+1\n",
    "      cv2.imwrite(filename, rotate_60)\n",
    "      #30\n",
    "      rotate_30 =Rotate30(image) \n",
    "\n",
    "      filename=os.path.join(save,method[i],img)\n",
    "      i=i+1\n",
    "      cv2.imwrite(filename, rotate_30)\n",
    "\n",
    "      # # Use Flip code 1 to flip vertically\n",
    "      img_flip = cv2.flip(image, 1)\n",
    "      filename=os.path.join(save,method[i],img)\n",
    "      i=i+1\n",
    "      cv2.imwrite(filename, img_flip)\n",
    "\n",
    "      #GaussianBlur\n",
    "      # dst = cv2.GaussianBlur(img,(10,10),cv2.BORDER_DEFAULT)\n",
    "      blur_image = cv2.GaussianBlur(image, (9,9), 5)\n",
    "\n",
    "      filename=os.path.join(save,method[i],img)\n",
    "      i=i+1\n",
    "      cv2.imwrite(filename, blur_image) \n",
    "\n",
    "      #Brightness\n",
    "\n",
    "      Brightness = brightness(image)\n",
    "\n",
    "      filename=os.path.join(save,method[i],img)\n",
    "      i=i+1\n",
    "      cv2.imwrite(filename, Brightness)\n",
    "\n",
    "      #channel_shift\n",
    "\n",
    "\n",
    "      channelshift = channel_shift(image)\n",
    "\n",
    "      filename=os.path.join(save,method[i],img)\n",
    "      i=i+1\n",
    "      cv2.imwrite(filename, channelshift)\n",
    "\n",
    "      # Add salt-and-pepper noise to the image.\n",
    "      noise_img = random_noise(image, mode='s&p',amount=0.5)\n",
    "\n",
    "      filename=os.path.join(save,method[i],img)\n",
    "      i=i+1\n",
    "      cv2.imwrite(filename, noise_img)\n",
    "\n",
    "      # The above function returns a floating-point image\n",
    "      # on the range [0, 1], thus we changed it to 'uint8'\n",
    "      # and from [0,255]\n",
    "      noise_img = np.array(255*noise_img, dtype = 'uint8')\n",
    "\n"
   ]
  },
  {
   "cell_type": "code",
   "execution_count": null,
   "id": "77dbda81",
   "metadata": {},
   "outputs": [],
   "source": [
    "#https://sqlserverguides.com/how-to-store-images-in-mongodb/\n",
    "#https://datatofish.com/how-to-connect-python-to-an-oracle-database-using-cx_oracle/"
   ]
  },
  {
   "cell_type": "markdown",
   "id": "6ecdf927",
   "metadata": {},
   "source": [
    "# xampp"
   ]
  },
  {
   "cell_type": "code",
   "execution_count": null,
   "id": "8c45f24c",
   "metadata": {},
   "outputs": [],
   "source": [
    "create table method_processing(\n",
    "    id_method int PRIMARY KEY AUTO_INCREMENT,\n",
    "    name_method varchar(30) \n",
    ") ENGINE = InnoDB DEFAULT CHARSET = utf8mb4;\n",
    "\n",
    "-- INSERT INTO  method_processing (name_method) VALUES (name_method)\n",
    "\n",
    "\n",
    "\n",
    "create table original_image(\n",
    "    id_original_image int PRIMARY KEY AUTO_INCREMENT,\n",
    "    image LONGBLOB NOT NULL,\n",
    "    label_img varchar(20) not null\n",
    ") ENGINE = InnoDB DEFAULT CHARSET = utf8mb4;\n",
    " \n",
    "    \n",
    "-- INSERT INTO  original_image (image,label_img) VALUES (image,label_img)\n",
    "    \n",
    "    \n",
    "create table image_processing(\n",
    "    id_original_image int ,\n",
    "    id_method int,\n",
    "    image LONGBLOB NOT NULL,\n",
    "    primary key (id_original_image, id_method),\n",
    "    FOREIGN KEY (id_original_image) REFERENCES original_image(id_original_image),\n",
    "    FOREIGN KEY (id_method) REFERENCES method_processing(id_method)\n",
    "\n",
    ") ENGINE = InnoDB DEFAULT CHARSET = utf8mb4;"
   ]
  },
  {
   "cell_type": "markdown",
   "id": "52698348",
   "metadata": {},
   "source": [
    "# oracle "
   ]
  },
  {
   "cell_type": "code",
   "execution_count": null,
   "id": "5396aab3",
   "metadata": {},
   "outputs": [],
   "source": [
    "\n",
    "CREATE DIRECTORY database_augmented AS 'C:\\Users\\admin\\Documents\\database_augmented';\n",
    "\n",
    "\n",
    "create table method_processing(\n",
    "    id_method number(10) PRIMARY KEY,\n",
    "    name_method varchar(30) \n",
    ");\n",
    "\n",
    "CREATE SEQUENCE method_SEQ;\n",
    "\n",
    "\n",
    "-- create tigger using the sequence\n",
    "CREATE OR REPLACE TRIGGER method_TRG \n",
    "BEFORE INSERT ON method_processing \n",
    "FOR EACH ROW\n",
    "WHEN (new.id_method IS NULL)\n",
    "BEGIN\n",
    "  SELECT method_SEQ.NEXTVAL\n",
    "  INTO   :new.id_method\n",
    "  FROM   dual;\n",
    "END;\n",
    "\n",
    "\n",
    "\n",
    "--INSERT INTO method_processing (name_method) VALUES ('a');\n",
    "\n",
    "\n",
    "commit;\n",
    "\n",
    "  \n",
    "\n",
    "  \n",
    "  \n",
    "create table original_image(\n",
    "    id_original_image number(10) PRIMARY KEY ,\n",
    "    image bfile NOT NULL\n",
    ");\n",
    "\n",
    "CREATE SEQUENCE original_image_SEQ;\n",
    "\n",
    "\n",
    "-- create tigger using the sequence\n",
    "CREATE OR REPLACE TRIGGER original_image_TRG \n",
    "BEFORE INSERT ON original_image \n",
    "FOR EACH ROW\n",
    "WHEN (new.id_original_image IS NULL)\n",
    "BEGIN\n",
    "  SELECT original_image_SEQ.NEXTVAL\n",
    "  INTO   :new.id_original_image\n",
    "  FROM   dual;\n",
    "END;\n",
    "\n",
    "\n",
    "\n",
    "create table imageprocessing(\n",
    "    id_original_image number(10) ,\n",
    "    id_method number(10),\n",
    "    image bfile NOT NULL,\n",
    "    primary key (id_original_image, id_method),\n",
    "    FOREIGN KEY (id_original_image) REFERENCES original_image(id_original_image),\n",
    "    FOREIGN KEY (id_method) REFERENCES method_processing(id_method)\n",
    "\n",
    ");\n",
    "\n",
    "\n",
    "\n",
    "\n",
    "\n",
    "\n",
    "INSERT INTO print_media (product_id, ad_id, ad_graphic)\n",
    "   VALUES (3000, 31001, \n",
    "      BFILENAME('MEDIA_DIR', 'modem_comp_ad.gif'));"
   ]
  }
 ],
 "metadata": {
  "kernelspec": {
   "display_name": "gpu",
   "language": "python",
   "name": "gpu"
  },
  "language_info": {
   "codemirror_mode": {
    "name": "ipython",
    "version": 3
   },
   "file_extension": ".py",
   "mimetype": "text/x-python",
   "name": "python",
   "nbconvert_exporter": "python",
   "pygments_lexer": "ipython3",
   "version": "3.9.12"
  }
 },
 "nbformat": 4,
 "nbformat_minor": 5
}
